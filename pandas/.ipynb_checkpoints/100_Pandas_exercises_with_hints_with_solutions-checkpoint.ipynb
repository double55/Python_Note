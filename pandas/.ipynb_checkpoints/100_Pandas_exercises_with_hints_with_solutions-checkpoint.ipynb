{
 "cells": [
  {
   "cell_type": "markdown",
   "metadata": {},
   "source": [
    "# 一.如何使用列表和字典创建 Series"
   ]
  },
  {
   "cell_type": "markdown",
   "metadata": {},
   "source": [
    "## 使用列表创建 Series"
   ]
  },
  {
   "cell_type": "code",
   "execution_count": 1,
   "metadata": {},
   "outputs": [
    {
     "name": "stdout",
     "output_type": "stream",
     "text": [
      "0    1.5\n",
      "1    2.5\n",
      "2    3.0\n",
      "3    4.5\n",
      "4    5.0\n",
      "5    6.0\n",
      "dtype: float64\n"
     ]
    }
   ],
   "source": [
    "import pandas as pd\n",
    " \n",
    "ser1 = pd.Series([1.5, 2.5, 3, 4.5, 5.0, 6])\n",
    "print(ser1)"
   ]
  },
  {
   "cell_type": "markdown",
   "metadata": {},
   "source": [
    "## 使用 name 参数创建 Series"
   ]
  },
  {
   "cell_type": "code",
   "execution_count": 2,
   "metadata": {},
   "outputs": [
    {
     "name": "stdout",
     "output_type": "stream",
     "text": [
      "0      India\n",
      "1     Canada\n",
      "2    Germany\n",
      "Name: Countries, dtype: object\n"
     ]
    }
   ],
   "source": [
    "import pandas as pd\n",
    " \n",
    "ser2 = pd.Series([\"India\", \"Canada\", \"Germany\"], name=\"Countries\")\n",
    "print(ser2)"
   ]
  },
  {
   "cell_type": "markdown",
   "metadata": {},
   "source": [
    "## 使用简写的列表创建 Series"
   ]
  },
  {
   "cell_type": "code",
   "execution_count": 3,
   "metadata": {},
   "outputs": [
    {
     "name": "stdout",
     "output_type": "stream",
     "text": [
      "0    A\n",
      "1    A\n",
      "2    A\n",
      "3    A\n",
      "dtype: object\n"
     ]
    }
   ],
   "source": [
    "import pandas as pd\n",
    " \n",
    "ser3 = pd.Series([\"A\"]*4)\n",
    "print(ser3)"
   ]
  },
  {
   "cell_type": "markdown",
   "metadata": {},
   "source": [
    "## 使用字典创建 Series"
   ]
  },
  {
   "cell_type": "code",
   "execution_count": 4,
   "metadata": {
    "scrolled": true
   },
   "outputs": [
    {
     "name": "stdout",
     "output_type": "stream",
     "text": [
      "India    New Delhi\n",
      "Japan        Tokyo\n",
      "UK          London\n",
      "dtype: object\n"
     ]
    }
   ],
   "source": [
    "import pandas as pd\n",
    " \n",
    "ser4 = pd.Series({\"India\": \"New Delhi\",\n",
    "                  \"Japan\": \"Tokyo\",\n",
    "                  \"UK\": \"London\"})\n",
    "print(ser4)"
   ]
  },
  {
   "cell_type": "markdown",
   "metadata": {},
   "source": [
    "# 二.如何使用 Numpy 函数创建 Series"
   ]
  },
  {
   "cell_type": "code",
   "execution_count": 5,
   "metadata": {},
   "outputs": [
    {
     "name": "stdout",
     "output_type": "stream",
     "text": [
      "0     1.00\n",
      "1     3.25\n",
      "2     5.50\n",
      "3     7.75\n",
      "4    10.00\n",
      "dtype: float64\n",
      "0    0.980733\n",
      "1    0.700065\n",
      "2    1.445329\n",
      "3   -0.438692\n",
      "4   -2.098940\n",
      "dtype: float64\n"
     ]
    }
   ],
   "source": [
    "import pandas as pd\n",
    "import numpy as np\n",
    " \n",
    "ser1 = pd.Series(np.linspace(1, 10, 5))\n",
    "print(ser1)\n",
    " \n",
    "ser2 = pd.Series(np.random.normal(size=5))\n",
    "print(ser2)"
   ]
  },
  {
   "cell_type": "markdown",
   "metadata": {},
   "source": [
    "# 三.如何获取 Series 的索引和值"
   ]
  },
  {
   "cell_type": "code",
   "execution_count": 6,
   "metadata": {},
   "outputs": [
    {
     "name": "stdout",
     "output_type": "stream",
     "text": [
      "['New Delhi' 'Tokyo' 'London']\n",
      "Index(['India', 'Japan', 'UK'], dtype='object')\n",
      "\n",
      "\n",
      "RangeIndex(start=0, stop=5, step=1)\n",
      "[ 2.13108277  0.51090985  0.68862127  1.54468459 -0.32134936]\n"
     ]
    }
   ],
   "source": [
    "import pandas as pd\n",
    "import numpy as np\n",
    " \n",
    "ser1 = pd.Series({\"India\": \"New Delhi\",\n",
    "                  \"Japan\": \"Tokyo\",\n",
    "                  \"UK\": \"London\"})\n",
    " \n",
    "print(ser1.values)\n",
    "print(ser1.index)\n",
    " \n",
    "print(\"\\n\")\n",
    " \n",
    "ser2 = pd.Series(np.random.normal(size=5))\n",
    "print(ser2.index)\n",
    "print(ser2.values)"
   ]
  },
  {
   "cell_type": "markdown",
   "metadata": {},
   "source": [
    "# 四.如何在创建 Series 时指定索引"
   ]
  },
  {
   "cell_type": "code",
   "execution_count": 7,
   "metadata": {},
   "outputs": [
    {
     "name": "stdout",
     "output_type": "stream",
     "text": [
      "IND        India\n",
      "CAN       Canada\n",
      "AUS    Australia\n",
      "JAP        Japan\n",
      "GER      Germany\n",
      "FRA       France\n",
      "dtype: object\n"
     ]
    }
   ],
   "source": [
    "import pandas as pd\n",
    " \n",
    "values = [\"India\", \"Canada\", \"Australia\",\n",
    "          \"Japan\", \"Germany\", \"France\"]\n",
    " \n",
    "code = [\"IND\", \"CAN\", \"AUS\", \"JAP\", \"GER\", \"FRA\"]\n",
    " \n",
    "ser1 = pd.Series(values, index=code)\n",
    " \n",
    "print(ser1)"
   ]
  },
  {
   "cell_type": "markdown",
   "metadata": {},
   "source": [
    "# 五.如何获取 Series 的大小和形状"
   ]
  },
  {
   "cell_type": "code",
   "execution_count": 8,
   "metadata": {},
   "outputs": [
    {
     "name": "stdout",
     "output_type": "stream",
     "text": [
      "6\n",
      "(6,)\n",
      "6\n"
     ]
    }
   ],
   "source": [
    "import pandas as pd\n",
    " \n",
    "values = [\"India\", \"Canada\", \"Australia\",\n",
    "          \"Japan\", \"Germany\", \"France\"]\n",
    " \n",
    "code = [\"IND\", \"CAN\", \"AUS\", \"JAP\", \"GER\", \"FRA\"]\n",
    " \n",
    "ser1 = pd.Series(values, index=code)\n",
    " \n",
    "print(len(ser1))\n",
    " \n",
    "print(ser1.shape)\n",
    " \n",
    "print(ser1.size)"
   ]
  },
  {
   "cell_type": "markdown",
   "metadata": {},
   "source": [
    "# 六.如何获取 Series 开始或末尾几行数据"
   ]
  },
  {
   "cell_type": "markdown",
   "metadata": {},
   "source": [
    "## Head()"
   ]
  },
  {
   "cell_type": "code",
   "execution_count": 9,
   "metadata": {},
   "outputs": [
    {
     "name": "stdout",
     "output_type": "stream",
     "text": [
      "-----Head()-----\n",
      "IND        India\n",
      "CAN       Canada\n",
      "AUS    Australia\n",
      "JAP        Japan\n",
      "GER      Germany\n",
      "dtype: object\n",
      "\n",
      "\n",
      "-----Head(2)-----\n",
      "IND     India\n",
      "CAN    Canada\n",
      "dtype: object\n"
     ]
    }
   ],
   "source": [
    "import pandas as pd\n",
    " \n",
    "values = [\"India\", \"Canada\", \"Australia\",\n",
    "          \"Japan\", \"Germany\", \"France\"]\n",
    " \n",
    "code = [\"IND\", \"CAN\", \"AUS\", \"JAP\", \"GER\", \"FRA\"]\n",
    " \n",
    "ser1 = pd.Series(values, index=code)\n",
    " \n",
    "print(\"-----Head()-----\")\n",
    "print(ser1.head())\n",
    " \n",
    "print(\"\\n\\n-----Head(2)-----\")\n",
    "print(ser1.head(2))"
   ]
  },
  {
   "cell_type": "markdown",
   "metadata": {},
   "source": [
    "## Tail()"
   ]
  },
  {
   "cell_type": "code",
   "execution_count": 10,
   "metadata": {},
   "outputs": [
    {
     "name": "stdout",
     "output_type": "stream",
     "text": [
      "-----Tail()-----\n",
      "CAN       Canada\n",
      "AUS    Australia\n",
      "JAP        Japan\n",
      "GER      Germany\n",
      "FRA       France\n",
      "dtype: object\n",
      "\n",
      "\n",
      "-----Tail(2)-----\n",
      "GER    Germany\n",
      "FRA     France\n",
      "dtype: object\n"
     ]
    }
   ],
   "source": [
    "import pandas as pd\n",
    " \n",
    "values = [\"India\", \"Canada\", \"Australia\",\n",
    "          \"Japan\", \"Germany\", \"France\"]\n",
    " \n",
    "code = [\"IND\", \"CAN\", \"AUS\", \"JAP\", \"GER\", \"FRA\"]\n",
    " \n",
    "ser1 = pd.Series(values, index=code)\n",
    " \n",
    "print(\"-----Tail()-----\")\n",
    "print(ser1.tail())\n",
    " \n",
    "print(\"\\n\\n-----Tail(2)-----\")\n",
    "print(ser1.tail(2))"
   ]
  },
  {
   "cell_type": "markdown",
   "metadata": {},
   "source": [
    "## Take()"
   ]
  },
  {
   "cell_type": "code",
   "execution_count": 11,
   "metadata": {},
   "outputs": [
    {
     "name": "stdout",
     "output_type": "stream",
     "text": [
      "-----Take()-----\n",
      "AUS    Australia\n",
      "GER      Germany\n",
      "FRA       France\n",
      "dtype: object\n"
     ]
    }
   ],
   "source": [
    "import pandas as pd\n",
    " \n",
    "values = [\"India\", \"Canada\", \"Australia\",\n",
    "          \"Japan\", \"Germany\", \"France\"]\n",
    " \n",
    "code = [\"IND\", \"CAN\", \"AUS\", \"JAP\", \"GER\", \"FRA\"]\n",
    " \n",
    "ser1 = pd.Series(values, index=code)\n",
    " \n",
    "print(\"-----Take()-----\")\n",
    "print(ser1.take([2, 4, 5]))"
   ]
  },
  {
   "cell_type": "markdown",
   "metadata": {},
   "source": [
    "# 七.使用切片获取 Series 子集"
   ]
  },
  {
   "cell_type": "code",
   "execution_count": 12,
   "metadata": {},
   "outputs": [
    {
     "name": "stdout",
     "output_type": "stream",
     "text": [
      "\n",
      " [2:2] \n",
      "\n",
      "C    200\n",
      "D    300\n",
      "dtype: int64\n",
      "\n",
      " [1:6:2] \n",
      "\n",
      "B    100\n",
      "D    300\n",
      "F    500\n",
      "dtype: int64\n",
      "\n",
      " [:6] \n",
      "\n",
      "A      0\n",
      "B    100\n",
      "C    200\n",
      "D    300\n",
      "E    400\n",
      "F    500\n",
      "dtype: int64\n",
      "\n",
      " [4:] \n",
      "\n",
      "E    400\n",
      "F    500\n",
      "G    600\n",
      "H    700\n",
      "I    800\n",
      "J    900\n",
      "dtype: int64\n",
      "\n",
      " [:4:2] \n",
      "\n",
      "A      0\n",
      "C    200\n",
      "dtype: int64\n",
      "\n",
      " [4::2] \n",
      "\n",
      "E    400\n",
      "G    600\n",
      "I    800\n",
      "dtype: int64\n",
      "\n",
      " [::-1] \n",
      "\n",
      "J    900\n",
      "I    800\n",
      "H    700\n",
      "G    600\n",
      "F    500\n",
      "E    400\n",
      "D    300\n",
      "C    200\n",
      "B    100\n",
      "A      0\n",
      "dtype: int64\n"
     ]
    }
   ],
   "source": [
    "import pandas as pd\n",
    " \n",
    "num = [000, 100, 200, 300, 400, 500, 600, 700, 800, 900]\n",
    " \n",
    "idx = ['A', 'B', 'C', 'D', 'E', 'F', 'G', 'H', 'I', 'J']\n",
    " \n",
    "series = pd.Series(num, index=idx)\n",
    " \n",
    "print(\"\\n [2:2] \\n\")\n",
    "print(series[2:4])\n",
    " \n",
    "print(\"\\n [1:6:2] \\n\")\n",
    "print(series[1:6:2])\n",
    " \n",
    "print(\"\\n [:6] \\n\")\n",
    "print(series[:6])\n",
    " \n",
    "print(\"\\n [4:] \\n\")\n",
    "print(series[4:])\n",
    " \n",
    "print(\"\\n [:4:2] \\n\")\n",
    "print(series[:4:2])\n",
    " \n",
    "print(\"\\n [4::2] \\n\")\n",
    "print(series[4::2])\n",
    " \n",
    "print(\"\\n [::-1] \\n\")\n",
    "print(series[::-1])"
   ]
  },
  {
   "cell_type": "markdown",
   "metadata": {},
   "source": [
    "# 八.如何创建 DataFrame"
   ]
  },
  {
   "cell_type": "code",
   "execution_count": 13,
   "metadata": {},
   "outputs": [
    {
     "name": "stdout",
     "output_type": "stream",
     "text": [
      "  EmpCode           Name    Occupation Date Of Join  Age\n",
      "0  Emp001       John Doe       Chemist   2018-01-25   23\n",
      "1   Emp00  William Spark  Statistician   2018-01-26   24\n"
     ]
    }
   ],
   "source": [
    "import pandas as pd\n",
    "\n",
    "employees = pd.DataFrame({\n",
    "    'EmpCode': ['Emp001', 'Emp00'],\n",
    "    'Name': ['John Doe', 'William Spark'],\n",
    "    'Occupation': ['Chemist', 'Statistician'],\n",
    "    'Date Of Join': ['2018-01-25', '2018-01-26'],\n",
    "    'Age': [23, 24]})\n",
    "\n",
    "print(employees)"
   ]
  },
  {
   "cell_type": "markdown",
   "metadata": {},
   "source": [
    "# 九.如何设置 DataFrame 的索引和列信息"
   ]
  },
  {
   "cell_type": "code",
   "execution_count": 14,
   "metadata": {},
   "outputs": [
    {
     "name": "stdout",
     "output_type": "stream",
     "text": [
      "                 Name    Occupation Date Of Join  Age\n",
      "Emp001       John Doe       Chemist   2018-01-25   23\n",
      "Emp002  William Spark  Statistician   2018-01-26   24\n"
     ]
    }
   ],
   "source": [
    "import pandas as pd\n",
    " \n",
    "employees = pd.DataFrame(\n",
    "    data={'Name': ['John Doe', 'William Spark'],\n",
    "          'Occupation': ['Chemist', 'Statistician'],\n",
    "          'Date Of Join': ['2018-01-25', '2018-01-26'],\n",
    "          'Age': [23, 24]},\n",
    "    index=['Emp001', 'Emp002'],\n",
    "    columns=['Name', 'Occupation', 'Date Of Join', 'Age'])\n",
    " \n",
    "print(employees)"
   ]
  },
  {
   "cell_type": "markdown",
   "metadata": {},
   "source": [
    "# 十.如何重命名 DataFrame 的列名称"
   ]
  },
  {
   "cell_type": "code",
   "execution_count": 15,
   "metadata": {},
   "outputs": [
    {
     "name": "stdout",
     "output_type": "stream",
     "text": [
      "  EmpCode        EmpName EmpOccupation      EmpDOJ  EmpAge\n",
      "0  Emp001       John Doe       Chemist  2018-01-25      23\n",
      "1   Emp00  William Spark  Statistician  2018-01-26      24\n"
     ]
    }
   ],
   "source": [
    "import pandas as pd\n",
    "\n",
    "employees = pd.DataFrame({\n",
    "    'EmpCode': ['Emp001', 'Emp00'],\n",
    "    'Name': ['John Doe', 'William Spark'],\n",
    "    'Occupation': ['Chemist', 'Statistician'],\n",
    "    'Date Of Join': ['2018-01-25', '2018-01-26'],\n",
    "    'Age': [23, 24]})\n",
    "\n",
    "employees.columns = ['EmpCode', 'EmpName', 'EmpOccupation', 'EmpDOJ', 'EmpAge']\n",
    "\n",
    "print(employees)"
   ]
  },
  {
   "cell_type": "markdown",
   "metadata": {},
   "source": [
    "# 十一.如何根据 Pandas 列中的值从 DataFrame 中选择或过滤行"
   ]
  },
  {
   "cell_type": "code",
   "execution_count": 16,
   "metadata": {},
   "outputs": [
    {
     "name": "stdout",
     "output_type": "stream",
     "text": [
      "\n",
      "Use == operator\n",
      "\n",
      "  EmpCode  Name Occupation Date Of Join  Age\n",
      "0  Emp001  John    Chemist   2018-01-25   23\n",
      "\n",
      "Use < operator\n",
      "\n",
      "  EmpCode   Name    Occupation Date Of Join  Age\n",
      "0  Emp001   John       Chemist   2018-01-25   23\n",
      "1  Emp002    Doe  Statistician   2018-01-26   24\n",
      "3  Emp004  Spark  Statistician   2018-02-26   29\n",
      "\n",
      "Use != operator\n",
      "\n",
      "  EmpCode  Name  Occupation Date Of Join  Age\n",
      "0  Emp001  John     Chemist   2018-01-25   23\n",
      "4  Emp005  Mark  Programmer   2018-03-16   40\n",
      "\n",
      "Multiple Conditions\n",
      "\n",
      "  EmpCode  Name Occupation Date Of Join  Age\n",
      "0  Emp001  John    Chemist   2018-01-25   23\n"
     ]
    }
   ],
   "source": [
    "import pandas as pd\n",
    " \n",
    "employees = pd.DataFrame({\n",
    "    'EmpCode': ['Emp001', 'Emp002', 'Emp003', 'Emp004', 'Emp005'],\n",
    "    'Name': ['John', 'Doe', 'William', 'Spark', 'Mark'],\n",
    "    'Occupation': ['Chemist', 'Statistician', 'Statistician',\n",
    "                   'Statistician', 'Programmer'],\n",
    "    'Date Of Join': ['2018-01-25', '2018-01-26', '2018-01-26', '2018-02-26',\n",
    "                     '2018-03-16'],\n",
    "    'Age': [23, 24, 34, 29, 40]})\n",
    " \n",
    "print(\"\\nUse == operator\\n\")\n",
    "print(employees.loc[employees['Age'] == 23])\n",
    " \n",
    "print(\"\\nUse < operator\\n\")\n",
    "print(employees.loc[employees['Age'] < 30])\n",
    " \n",
    "print(\"\\nUse != operator\\n\")\n",
    "print(employees.loc[employees['Occupation'] != 'Statistician'])\n",
    " \n",
    "print(\"\\nMultiple Conditions\\n\")\n",
    "print(employees.loc[(employees['Occupation'] != 'Statistician') &\n",
    "                    (employees['Name'] == 'John')])"
   ]
  },
  {
   "cell_type": "markdown",
   "metadata": {},
   "source": [
    "# 十二.在 DataFrame 中使用“isin”过滤多行"
   ]
  },
  {
   "cell_type": "code",
   "execution_count": 17,
   "metadata": {},
   "outputs": [
    {
     "name": "stdout",
     "output_type": "stream",
     "text": [
      "\n",
      "Use isin operator\n",
      "\n",
      "  EmpCode  Name  Occupation Date Of Join  Age\n",
      "0  Emp001  John     Chemist   2018-01-25   23\n",
      "4  Emp005  Mark  Programmer   2018-03-16   40\n",
      "\n",
      "Multiple Conditions\n",
      "\n",
      "  EmpCode  Name Occupation Date Of Join  Age\n",
      "0  Emp001  John    Chemist   2018-01-25   23\n"
     ]
    }
   ],
   "source": [
    "import pandas as pd\n",
    " \n",
    "employees = pd.DataFrame({\n",
    "    'EmpCode': ['Emp001', 'Emp002', 'Emp003', 'Emp004', 'Emp005'],\n",
    "    'Name': ['John', 'Doe', 'William', 'Spark', 'Mark'],\n",
    "    'Occupation': ['Chemist', 'Statistician', 'Statistician',\n",
    "                   'Statistician', 'Programmer'],\n",
    "    'Date Of Join': ['2018-01-25', '2018-01-26', '2018-01-26', '2018-02-26',\n",
    "                     '2018-03-16'],\n",
    "    'Age': [23, 24, 34, 29, 40]})\n",
    " \n",
    "print(\"\\nUse isin operator\\n\")\n",
    "print(employees.loc[employees['Occupation'].isin(['Chemist','Programmer'])])\n",
    " \n",
    "print(\"\\nMultiple Conditions\\n\")\n",
    "print(employees.loc[(employees['Occupation'] == 'Chemist') |\n",
    "                    (employees['Name'] == 'John') &\n",
    "                    (employees['Age'] < 30)])"
   ]
  },
  {
   "cell_type": "markdown",
   "metadata": {},
   "source": [
    "# 十三.迭代 DataFrame 的行和列"
   ]
  },
  {
   "cell_type": "code",
   "execution_count": 18,
   "metadata": {},
   "outputs": [
    {
     "name": "stdout",
     "output_type": "stream",
     "text": [
      "\n",
      " Example iterrows \n",
      "\n",
      "John -- 23\n",
      "Doe -- 24\n",
      "William -- 34\n",
      "Spark -- 29\n",
      "Mark -- 40\n",
      "\n",
      " Example itertuples \n",
      "\n",
      "John -- 23\n",
      "Doe -- 24\n",
      "William -- 34\n",
      "Spark -- 29\n",
      "Mark -- 40\n"
     ]
    }
   ],
   "source": [
    "import pandas as pd\n",
    " \n",
    "employees = pd.DataFrame({\n",
    "    'EmpCode': ['Emp001', 'Emp002', 'Emp003', 'Emp004', 'Emp005'],\n",
    "    'Name': ['John', 'Doe', 'William', 'Spark', 'Mark'],\n",
    "    'Occupation': ['Chemist', 'Statistician', 'Statistician',\n",
    "                   'Statistician', 'Programmer'],\n",
    "    'Date Of Join': ['2018-01-25', '2018-01-26', '2018-01-26', '2018-02-26',\n",
    "                     '2018-03-16'],\n",
    "    'Age': [23, 24, 34, 29, 40]})\n",
    " \n",
    "print(\"\\n Example iterrows \\n\")\n",
    "for index, col in employees.iterrows():\n",
    "    print(col['Name'], \"--\", col['Age'])\n",
    " \n",
    " \n",
    "print(\"\\n Example itertuples \\n\")\n",
    "for row in employees.itertuples(index=True, name='Pandas'):\n",
    "    print(getattr(row, \"Name\"), \"--\", getattr(row, \"Age\"))"
   ]
  },
  {
   "cell_type": "markdown",
   "metadata": {},
   "source": [
    "# 十四.如何通过名称或索引删除 DataFrame 的列"
   ]
  },
  {
   "cell_type": "code",
   "execution_count": 19,
   "metadata": {},
   "outputs": [
    {
     "name": "stdout",
     "output_type": "stream",
     "text": [
      "  EmpCode     Name    Occupation Date Of Join  Age\n",
      "0  Emp001     John       Chemist   2018-01-25   23\n",
      "1  Emp002      Doe  Statistician   2018-01-26   24\n",
      "2  Emp003  William  Statistician   2018-01-26   34\n",
      "3  Emp004    Spark  Statistician   2018-02-26   29\n",
      "4  Emp005     Mark    Programmer   2018-03-16   40\n",
      "\n",
      " Drop Column by Name \n",
      "\n",
      "  EmpCode     Name    Occupation Date Of Join\n",
      "0  Emp001     John       Chemist   2018-01-25\n",
      "1  Emp002      Doe  Statistician   2018-01-26\n",
      "2  Emp003  William  Statistician   2018-01-26\n",
      "3  Emp004    Spark  Statistician   2018-02-26\n",
      "4  Emp005     Mark    Programmer   2018-03-16\n",
      "\n",
      " Drop Column by Index \n",
      "\n",
      "     Occupation Date Of Join\n",
      "0       Chemist   2018-01-25\n",
      "1  Statistician   2018-01-26\n",
      "2  Statistician   2018-01-26\n",
      "3  Statistician   2018-02-26\n",
      "4    Programmer   2018-03-16\n"
     ]
    }
   ],
   "source": [
    "\n",
    "import pandas as pd\n",
    " \n",
    "employees = pd.DataFrame({\n",
    "    'EmpCode': ['Emp001', 'Emp002', 'Emp003', 'Emp004', 'Emp005'],\n",
    "    'Name': ['John', 'Doe', 'William', 'Spark', 'Mark'],\n",
    "    'Occupation': ['Chemist', 'Statistician', 'Statistician',\n",
    "                   'Statistician', 'Programmer'],\n",
    "    'Date Of Join': ['2018-01-25', '2018-01-26', '2018-01-26', '2018-02-26',\n",
    "                     '2018-03-16'],\n",
    "    'Age': [23, 24, 34, 29, 40]})\n",
    " \n",
    "print(employees)\n",
    " \n",
    "print(\"\\n Drop Column by Name \\n\")\n",
    "employees.drop('Age', axis=1, inplace=True)\n",
    "print(employees)\n",
    " \n",
    "print(\"\\n Drop Column by Index \\n\")\n",
    "employees.drop(employees.columns[[0,1]], axis=1, inplace=True)\n",
    "print(employees)"
   ]
  },
  {
   "cell_type": "markdown",
   "metadata": {},
   "source": [
    "# 十五.向 DataFrame 中新增列"
   ]
  },
  {
   "cell_type": "code",
   "execution_count": 20,
   "metadata": {},
   "outputs": [
    {
     "name": "stdout",
     "output_type": "stream",
     "text": [
      "  EmpCode     Name    Occupation Date Of Join  Age     City\n",
      "0  Emp001     John       Chemist   2018-01-25   23   London\n",
      "1  Emp002      Doe  Statistician   2018-01-26   24    Tokyo\n",
      "2  Emp003  William  Statistician   2018-01-26   34   Sydney\n",
      "3  Emp004    Spark  Statistician   2018-02-26   29   London\n",
      "4  Emp005     Mark    Programmer   2018-03-16   40  Toronto\n"
     ]
    }
   ],
   "source": [
    "import pandas as pd\n",
    " \n",
    "employees = pd.DataFrame({\n",
    "    'EmpCode': ['Emp001', 'Emp002', 'Emp003', 'Emp004', 'Emp005'],\n",
    "    'Name': ['John', 'Doe', 'William', 'Spark', 'Mark'],\n",
    "    'Occupation': ['Chemist', 'Statistician', 'Statistician',\n",
    "                   'Statistician', 'Programmer'],\n",
    "    'Date Of Join': ['2018-01-25', '2018-01-26', '2018-01-26', '2018-02-26',\n",
    "                     '2018-03-16'],\n",
    "    'Age': [23, 24, 34, 29, 40]})\n",
    " \n",
    "employees['City'] = ['London', 'Tokyo', 'Sydney', 'London', 'Toronto']\n",
    " \n",
    "print(employees)"
   ]
  },
  {
   "cell_type": "markdown",
   "metadata": {},
   "source": [
    "# 十六.如何从 DataFrame 中获取列标题列表"
   ]
  },
  {
   "cell_type": "code",
   "execution_count": 21,
   "metadata": {},
   "outputs": [
    {
     "name": "stdout",
     "output_type": "stream",
     "text": [
      "  EmpCode     Name    Occupation Date Of Join  Age\n",
      "0  Emp001     John       Chemist   2018-01-25   23\n",
      "1  Emp002      Doe  Statistician   2018-01-26   24\n",
      "2  Emp003  William  Statistician   2018-01-26   34\n",
      "3  Emp004    Spark  Statistician   2018-02-26   29\n",
      "4  Emp005     Mark    Programmer   2018-03-16   40\n",
      "['EmpCode', 'Name', 'Occupation', 'Date Of Join', 'Age']\n",
      "['EmpCode', 'Name', 'Occupation', 'Date Of Join', 'Age']\n",
      "['EmpCode', 'Name', 'Occupation', 'Date Of Join', 'Age']\n"
     ]
    }
   ],
   "source": [
    "import pandas as pd\n",
    " \n",
    "employees = pd.DataFrame({\n",
    "    'EmpCode': ['Emp001', 'Emp002', 'Emp003', 'Emp004', 'Emp005'],\n",
    "    'Name': ['John', 'Doe', 'William', 'Spark', 'Mark'],\n",
    "    'Occupation': ['Chemist', 'Statistician', 'Statistician',\n",
    "                   'Statistician', 'Programmer'],\n",
    "    'Date Of Join': ['2018-01-25', '2018-01-26', '2018-01-26', '2018-02-26',\n",
    "                     '2018-03-16'],\n",
    "    'Age': [23, 24, 34, 29, 40]})\n",
    " \n",
    "print(employees)\n",
    "    \n",
    "print(list(employees))\n",
    " \n",
    "print(list(employees.columns.values))\n",
    " \n",
    "print(employees.columns.tolist())"
   ]
  },
  {
   "cell_type": "markdown",
   "metadata": {},
   "source": [
    "# 十七.如何随机生成 DataFrame"
   ]
  },
  {
   "cell_type": "code",
   "execution_count": 22,
   "metadata": {},
   "outputs": [
    {
     "name": "stdout",
     "output_type": "stream",
     "text": [
      "        A   B   C   D   E   F\n",
      "Row-0  99  78  61  16  73   8\n",
      "Row-1  62  27  30  80   7  76\n",
      "Row-2  15  53  80  27  44  77\n",
      "Row-3  75  65  47  30  84  86\n",
      "Row-4  18   9  41  62   1  82\n",
      "Row-5  16  78   5  58   0  80\n",
      "Row-6   4  36  51  27  31   2\n",
      "Row-7  68  38  83  19  18   7\n",
      "Row-8  30  62  11  67  65  55\n",
      "Row-9   3  91  78  27  29  33\n"
     ]
    }
   ],
   "source": [
    "import pandas as pd\n",
    "import numpy as np\n",
    " \n",
    "np.random.seed(5)\n",
    " \n",
    "df_random = pd.DataFrame(np.random.randint(100, size=(10, 6)),\n",
    "                         columns=list('ABCDEF'),\n",
    "                         index=['Row-{}'.format(i) for i in range(10)])\n",
    " \n",
    "print(df_random)"
   ]
  },
  {
   "cell_type": "markdown",
   "metadata": {},
   "source": [
    "# 十八.如何选择 DataFrame 的多个列"
   ]
  },
  {
   "cell_type": "code",
   "execution_count": 23,
   "metadata": {},
   "outputs": [
    {
     "name": "stdout",
     "output_type": "stream",
     "text": [
      "  EmpCode  Age     Name\n",
      "0  Emp001   23     John\n",
      "1  Emp002   24      Doe\n",
      "2  Emp003   34  William\n",
      "3  Emp004   29    Spark\n",
      "4  Emp005   40     Mark\n"
     ]
    }
   ],
   "source": [
    "import pandas as pd\n",
    " \n",
    "employees = pd.DataFrame({\n",
    "    'EmpCode': ['Emp001', 'Emp002', 'Emp003', 'Emp004', 'Emp005'],\n",
    "    'Name': ['John', 'Doe', 'William', 'Spark', 'Mark'],\n",
    "    'Occupation': ['Chemist', 'Statistician', 'Statistician',\n",
    "                   'Statistician', 'Programmer'],\n",
    "    'Date Of Join': ['2018-01-25', '2018-01-26', '2018-01-26', '2018-02-26',\n",
    "                     '2018-03-16'],\n",
    "    'Age': [23, 24, 34, 29, 40]})\n",
    " \n",
    "df = employees[['EmpCode', 'Age', 'Name']]\n",
    "print(df)"
   ]
  },
  {
   "cell_type": "markdown",
   "metadata": {},
   "source": [
    "# 十九.如何将字典转换为 DataFrame"
   ]
  },
  {
   "cell_type": "code",
   "execution_count": 24,
   "metadata": {},
   "outputs": [
    {
     "name": "stdout",
     "output_type": "stream",
     "text": [
      "{'Age': [30, 20, 22, 40, 32, 28, 39], 'Color': ['Blue', 'Green', 'Red', 'White', 'Gray', 'Black', 'Red'], 'Food': ['Steak', 'Lamb', 'Mango', 'Apple', 'Cheese', 'Melon', 'Beans'], 'Height': [165, 70, 120, 80, 180, 172, 150], 'Score': [4.6, 8.3, 9.0, 3.3, 1.8, 9.5, 2.2], 'State': ['NY', 'TX', 'FL', 'AL', 'AK', 'TX', 'TX']}\n",
      "\n",
      "\n",
      "   Age  Color    Food  Height  Score State\n",
      "0   30   Blue   Steak     165    4.6    NY\n",
      "1   20  Green    Lamb      70    8.3    TX\n",
      "2   22    Red   Mango     120    9.0    FL\n",
      "3   40  White   Apple      80    3.3    AL\n",
      "4   32   Gray  Cheese     180    1.8    AK\n",
      "5   28  Black   Melon     172    9.5    TX\n",
      "6   39    Red   Beans     150    2.2    TX\n"
     ]
    }
   ],
   "source": [
    "import pandas as pd\n",
    " \n",
    "data = ({'Age': [30, 20, 22, 40, 32, 28, 39],\n",
    "                   'Color': ['Blue', 'Green', 'Red', 'White', 'Gray', 'Black',\n",
    "                             'Red'],\n",
    "                   'Food': ['Steak', 'Lamb', 'Mango', 'Apple', 'Cheese',\n",
    "                            'Melon', 'Beans'],\n",
    "                   'Height': [165, 70, 120, 80, 180, 172, 150],\n",
    "                   'Score': [4.6, 8.3, 9.0, 3.3, 1.8, 9.5, 2.2],\n",
    "                   'State': ['NY', 'TX', 'FL', 'AL', 'AK', 'TX', 'TX']\n",
    "                   })\n",
    "print(data)\n",
    " \n",
    "print('\\n')\n",
    "\n",
    "df = pd.DataFrame(data)\n",
    " \n",
    "print(df)"
   ]
  },
  {
   "cell_type": "markdown",
   "metadata": {},
   "source": [
    "# 二十.使用 loc 进行切片"
   ]
  },
  {
   "cell_type": "code",
   "execution_count": 25,
   "metadata": {
    "scrolled": true
   },
   "outputs": [
    {
     "name": "stdout",
     "output_type": "stream",
     "text": [
      "\n",
      " -- Selecting a single row with .loc with a string -- \n",
      "\n",
      "Age          40\n",
      "Color     White\n",
      "Food      Apple\n",
      "Height       80\n",
      "Score       3.3\n",
      "State        AL\n",
      "Name: Penelope, dtype: object\n",
      "\n",
      " -- Selecting multiple rows with .loc with a list of strings -- \n",
      "\n",
      "          Age Color    Food  Height  Score State\n",
      "Cornelia   39   Red   Beans     150    2.2    TX\n",
      "Jane       30  Blue   Steak     165    4.6    NY\n",
      "Dean       32  Gray  Cheese     180    1.8    AK\n",
      "\n",
      " -- Selecting multiple rows with .loc with slice notation -- \n",
      "\n",
      "          Age  Color    Food  Height  Score State\n",
      "Aaron      22    Red   Mango     120    9.0    FL\n",
      "Penelope   40  White   Apple      80    3.3    AL\n",
      "Dean       32   Gray  Cheese     180    1.8    AK\n"
     ]
    }
   ],
   "source": [
    "import pandas as pd\n",
    " \n",
    "df = pd.DataFrame({'Age': [30, 20, 22, 40, 32, 28, 39],\n",
    "                   'Color': ['Blue', 'Green', 'Red', 'White', 'Gray', 'Black',\n",
    "                             'Red'],\n",
    "                   'Food': ['Steak', 'Lamb', 'Mango', 'Apple', 'Cheese',\n",
    "                            'Melon', 'Beans'],\n",
    "                   'Height': [165, 70, 120, 80, 180, 172, 150],\n",
    "                   'Score': [4.6, 8.3, 9.0, 3.3, 1.8, 9.5, 2.2],\n",
    "                   'State': ['NY', 'TX', 'FL', 'AL', 'AK', 'TX', 'TX']\n",
    "                   },\n",
    "                  index=['Jane', 'Nick', 'Aaron', 'Penelope', 'Dean',\n",
    "                         'Christina', 'Cornelia'])\n",
    " \n",
    "print(\"\\n -- Selecting a single row with .loc with a string -- \\n\")\n",
    "print(df.loc['Penelope'])\n",
    " \n",
    "print(\"\\n -- Selecting multiple rows with .loc with a list of strings -- \\n\")\n",
    "print(df.loc[['Cornelia', 'Jane', 'Dean']])\n",
    " \n",
    "print(\"\\n -- Selecting multiple rows with .loc with slice notation -- \\n\")\n",
    "print(df.loc['Aaron':'Dean'])"
   ]
  },
  {
   "cell_type": "markdown",
   "metadata": {},
   "source": [
    "# 二十一.使用 iloc 进行切片"
   ]
  },
  {
   "cell_type": "code",
   "execution_count": 26,
   "metadata": {},
   "outputs": [
    {
     "name": "stdout",
     "output_type": "stream",
     "text": [
      "\n",
      " -- Selecting a single row with .iloc with an integer -- \n",
      "\n",
      "Age           32\n",
      "Color       Gray\n",
      "Food      Cheese\n",
      "Height       180\n",
      "Score        1.8\n",
      "State         AK\n",
      "Name: Dean, dtype: object\n",
      "\n",
      " -- Selecting multiple rows with .iloc with a list of integers -- \n",
      "\n",
      "           Age  Color   Food  Height  Score State\n",
      "Aaron       22    Red  Mango     120    9.0    FL\n",
      "Christina   28  Black  Melon     172    9.5    TX\n",
      "\n",
      " -- Selecting multiple rows with .iloc with slice notation -- \n",
      "\n",
      "          Age  Color   Food  Height  Score State\n",
      "Jane       30   Blue  Steak     165    4.6    NY\n",
      "Penelope   40  White  Apple      80    3.3    AL\n"
     ]
    }
   ],
   "source": [
    "import pandas as pd\n",
    "\n",
    "df = pd.DataFrame({'Age': [30, 20, 22, 40, 32, 28, 39],\n",
    "                   'Color': ['Blue', 'Green', 'Red', 'White', 'Gray', 'Black',\n",
    "                             'Red'],\n",
    "                   'Food': ['Steak', 'Lamb', 'Mango', 'Apple', 'Cheese',\n",
    "                            'Melon', 'Beans'],\n",
    "                   'Height': [165, 70, 120, 80, 180, 172, 150],\n",
    "                   'Score': [4.6, 8.3, 9.0, 3.3, 1.8, 9.5, 2.2],\n",
    "                   'State': ['NY', 'TX', 'FL', 'AL', 'AK', 'TX', 'TX']\n",
    "                   },\n",
    "                  index=['Jane', 'Nick', 'Aaron', 'Penelope', 'Dean',\n",
    "                         'Christina', 'Cornelia'])\n",
    "\n",
    "print(\"\\n -- Selecting a single row with .iloc with an integer -- \\n\")\n",
    "print(df.iloc[4])\n",
    "\n",
    "print(\"\\n -- Selecting multiple rows with .iloc with a list of integers -- \\n\")\n",
    "print(df.iloc[[2, -2]])\n",
    "\n",
    "print(\"\\n -- Selecting multiple rows with .iloc with slice notation -- \\n\")\n",
    "print(df.iloc[:5:3])"
   ]
  },
  {
   "cell_type": "markdown",
   "metadata": {},
   "source": [
    "# 二十二.iloc 和 loc 的区别\n",
    "- loc 索引器还可以进行布尔选择，例如，如果我们想查找 Age 小于 30 的所有行并仅返回 Color 和 Height 列，我们可以执行以下操作。我们可以用 iloc 复制它，但我们不能将它传递给一个布尔系列，必须将布尔系列转换为 numpy 数组\n",
    "- loc 从索引中获取具有特定标签的行（或列）\n",
    "- iloc 在索引中的特定位置获取行（或列）（因此它只需要整数）"
   ]
  },
  {
   "cell_type": "code",
   "execution_count": 27,
   "metadata": {},
   "outputs": [
    {
     "name": "stdout",
     "output_type": "stream",
     "text": [
      "\n",
      " -- loc -- \n",
      "\n",
      "           Color  Height\n",
      "Nick       Green      70\n",
      "Aaron        Red     120\n",
      "Christina  Black     172\n",
      "\n",
      " -- iloc -- \n",
      "\n",
      "           Color  Height\n",
      "Nick       Green      70\n",
      "Aaron        Red     120\n",
      "Christina  Black     172\n"
     ]
    }
   ],
   "source": [
    "import pandas as pd\n",
    " \n",
    "df = pd.DataFrame({'Age': [30, 20, 22, 40, 32, 28, 39],\n",
    "                   'Color': ['Blue', 'Green', 'Red', 'White', 'Gray', 'Black',\n",
    "                             'Red'],\n",
    "                   'Food': ['Steak', 'Lamb', 'Mango', 'Apple', 'Cheese',\n",
    "                            'Melon', 'Beans'],\n",
    "                   'Height': [165, 70, 120, 80, 180, 172, 150],\n",
    "                   'Score': [4.6, 8.3, 9.0, 3.3, 1.8, 9.5, 2.2],\n",
    "                   'State': ['NY', 'TX', 'FL', 'AL', 'AK', 'TX', 'TX']\n",
    "                   },\n",
    "                  index=['Jane', 'Nick', 'Aaron', 'Penelope', 'Dean',\n",
    "                         'Christina', 'Cornelia'])\n",
    " \n",
    "print(\"\\n -- loc -- \\n\")\n",
    "print(df.loc[df['Age'] < 30, ['Color', 'Height']])\n",
    " \n",
    "print(\"\\n -- iloc -- \\n\")\n",
    "print(df.iloc[(df['Age'] < 30).values, [1, 3]])"
   ]
  },
  {
   "cell_type": "markdown",
   "metadata": {},
   "source": [
    "# 二十三.检查 DataFrame 中是否是空的"
   ]
  },
  {
   "cell_type": "code",
   "execution_count": 28,
   "metadata": {},
   "outputs": [
    {
     "name": "stdout",
     "output_type": "stream",
     "text": [
      "DataFrame is empty!\n"
     ]
    }
   ],
   "source": [
    "import pandas as pd\n",
    " \n",
    "df = pd.DataFrame()\n",
    " \n",
    "if df.empty:\n",
    "    print('DataFrame is empty!')"
   ]
  },
  {
   "cell_type": "markdown",
   "metadata": {},
   "source": [
    "# 二十四.在创建 DataFrame 时指定索引和列名称"
   ]
  },
  {
   "cell_type": "code",
   "execution_count": 29,
   "metadata": {},
   "outputs": [
    {
     "name": "stdout",
     "output_type": "stream",
     "text": [
      "       Country\n",
      "IND      India\n",
      "CAN     Canada\n",
      "AUS  Australia\n",
      "JAP      Japan\n",
      "GER    Germany\n",
      "FRA     France\n"
     ]
    }
   ],
   "source": [
    "\n",
    "import pandas as pd\n",
    " \n",
    "values = [\"India\", \"Canada\", \"Australia\",\n",
    "          \"Japan\", \"Germany\", \"France\"]\n",
    " \n",
    "code = [\"IND\", \"CAN\", \"AUS\", \"JAP\", \"GER\", \"FRA\"]\n",
    " \n",
    "df = pd.DataFrame(values, index=code, columns=['Country'])\n",
    " \n",
    "print(df)"
   ]
  },
  {
   "cell_type": "markdown",
   "metadata": {},
   "source": [
    "# 二十五.使用时间索引创建空 DataFrame"
   ]
  },
  {
   "cell_type": "code",
   "execution_count": 30,
   "metadata": {},
   "outputs": [
    {
     "name": "stdout",
     "output_type": "stream",
     "text": [
      "            A  B  C\n",
      "2022-04-12  0  0  0\n",
      "2022-04-13  0  0  0\n",
      "2022-04-14  0  0  0\n",
      "2022-04-15  0  0  0\n",
      "2022-04-16  0  0  0\n",
      "2022-04-17  0  0  0\n",
      "2022-04-18  0  0  0\n",
      "2022-04-19  0  0  0\n",
      "2022-04-20  0  0  0\n",
      "2022-04-21  0  0  0\n"
     ]
    }
   ],
   "source": [
    "import datetime\n",
    "import pandas as pd\n",
    " \n",
    "todays_date = datetime.datetime.now().date()\n",
    "index = pd.date_range(todays_date, periods=10, freq='D')\n",
    " \n",
    "columns = ['A', 'B', 'C']\n",
    " \n",
    "df = pd.DataFrame(index=index, columns=columns)\n",
    "df = df.fillna(0)\n",
    " \n",
    "print(df)"
   ]
  },
  {
   "cell_type": "markdown",
   "metadata": {},
   "source": [
    "# 二十六.如何改变 DataFrame 列的排序"
   ]
  },
  {
   "cell_type": "code",
   "execution_count": 31,
   "metadata": {},
   "outputs": [
    {
     "name": "stdout",
     "output_type": "stream",
     "text": [
      "\n",
      " -- Change order using columns -- \n",
      "\n",
      "           Height    Food  Color  Score State  Age\n",
      "Jane          165   Steak   Blue    4.6    NY   30\n",
      "Nick           70    Lamb  Green    8.3    TX   20\n",
      "Aaron         120   Mango    Red    9.0    FL   22\n",
      "Penelope       80   Apple  White    3.3    AL   40\n",
      "Dean          180  Cheese   Gray    1.8    AK   32\n",
      "Christina     172   Melon  Black    9.5    TX   28\n",
      "Cornelia      150   Beans    Red    2.2    TX   39\n",
      "\n",
      " -- Change order using reindex -- \n",
      "\n",
      "          State  Color  Age    Food  Score  Height\n",
      "Jane         NY   Blue   30   Steak    4.6     165\n",
      "Nick         TX  Green   20    Lamb    8.3      70\n",
      "Aaron        FL    Red   22   Mango    9.0     120\n",
      "Penelope     AL  White   40   Apple    3.3      80\n",
      "Dean         AK   Gray   32  Cheese    1.8     180\n",
      "Christina    TX  Black   28   Melon    9.5     172\n",
      "Cornelia     TX    Red   39   Beans    2.2     150\n"
     ]
    }
   ],
   "source": [
    "import pandas as pd\n",
    "\n",
    "df = pd.DataFrame({'Age': [30, 20, 22, 40, 32, 28, 39],\n",
    "                   'Color': ['Blue', 'Green', 'Red', 'White', 'Gray', 'Black',\n",
    "                             'Red'],\n",
    "                   'Food': ['Steak', 'Lamb', 'Mango', 'Apple', 'Cheese',\n",
    "                            'Melon', 'Beans'],\n",
    "                   'Height': [165, 70, 120, 80, 180, 172, 150],\n",
    "                   'Score': [4.6, 8.3, 9.0, 3.3, 1.8, 9.5, 2.2],\n",
    "                   'State': ['NY', 'TX', 'FL', 'AL', 'AK', 'TX', 'TX']\n",
    "                   },\n",
    "                  index=['Jane', 'Nick', 'Aaron', 'Penelope', 'Dean',\n",
    "                         'Christina', 'Cornelia'])\n",
    "\n",
    "print(\"\\n -- Change order using columns -- \\n\")\n",
    "new_order = [3, 2, 1, 4, 5, 0]\n",
    "df = df[df.columns[new_order]]\n",
    "print(df)\n",
    "\n",
    "print(\"\\n -- Change order using reindex -- \\n\")\n",
    "df = df.reindex(['State', 'Color', 'Age', 'Food', 'Score', 'Height'], axis=1)\n",
    "print(df)"
   ]
  },
  {
   "cell_type": "markdown",
   "metadata": {},
   "source": [
    "# 二十七.检查 DataFrame 列的数据类型"
   ]
  },
  {
   "cell_type": "code",
   "execution_count": 32,
   "metadata": {},
   "outputs": [
    {
     "name": "stdout",
     "output_type": "stream",
     "text": [
      "Age         int64\n",
      "Color      object\n",
      "Food       object\n",
      "Height      int64\n",
      "Score     float64\n",
      "State      object\n",
      "dtype: object\n"
     ]
    }
   ],
   "source": [
    "import pandas as pd\n",
    " \n",
    "df = pd.DataFrame({'Age': [30, 20, 22, 40, 32, 28, 39],\n",
    "                   'Color': ['Blue', 'Green', 'Red', 'White', 'Gray', 'Black',\n",
    "                             'Red'],\n",
    "                   'Food': ['Steak', 'Lamb', 'Mango', 'Apple', 'Cheese',\n",
    "                            'Melon', 'Beans'],\n",
    "                   'Height': [165, 70, 120, 80, 180, 172, 150],\n",
    "                   'Score': [4.6, 8.3, 9.0, 3.3, 1.8, 9.5, 2.2],\n",
    "                   'State': ['NY', 'TX', 'FL', 'AL', 'AK', 'TX', 'TX']\n",
    "                   },\n",
    "                  index=['Jane', 'Nick', 'Aaron', 'Penelope', 'Dean',\n",
    "                         'Christina', 'Cornelia'])\n",
    " \n",
    "print(df.dtypes)"
   ]
  },
  {
   "cell_type": "markdown",
   "metadata": {},
   "source": [
    "# 二十八.更改 DataFrame 指定列的数据类型"
   ]
  },
  {
   "cell_type": "code",
   "execution_count": 33,
   "metadata": {},
   "outputs": [
    {
     "name": "stdout",
     "output_type": "stream",
     "text": [
      "Age         int64\n",
      "Color      object\n",
      "Food       object\n",
      "Height      int64\n",
      "Score     float64\n",
      "State      object\n",
      "dtype: object\n",
      "Age        object\n",
      "Color      object\n",
      "Food       object\n",
      "Height      int64\n",
      "Score     float64\n",
      "State      object\n",
      "dtype: object\n"
     ]
    }
   ],
   "source": [
    "import pandas as pd\n",
    " \n",
    "df = pd.DataFrame({'Age': [30, 20, 22, 40, 32, 28, 39],\n",
    "                   'Color': ['Blue', 'Green', 'Red', 'White', 'Gray', 'Black',\n",
    "                             'Red'],\n",
    "                   'Food': ['Steak', 'Lamb', 'Mango', 'Apple', 'Cheese',\n",
    "                            'Melon', 'Beans'],\n",
    "                   'Height': [165, 70, 120, 80, 180, 172, 150],\n",
    "                   'Score': [4.6, 8.3, 9.0, 3.3, 1.8, 9.5, 2.2],\n",
    "                   'State': ['NY', 'TX', 'FL', 'AL', 'AK', 'TX', 'TX']\n",
    "                   },\n",
    "                  index=['Jane', 'Nick', 'Aaron', 'Penelope', 'Dean',\n",
    "                         'Christina', 'Cornelia'])\n",
    " \n",
    "print(df.dtypes)\n",
    " \n",
    "df['Age'] = df['Age'].astype(str)\n",
    " \n",
    "print(df.dtypes)"
   ]
  },
  {
   "cell_type": "markdown",
   "metadata": {},
   "source": [
    "# 二十九.如何将列的数据类型转换为 DateTime 类型"
   ]
  },
  {
   "cell_type": "code",
   "execution_count": 34,
   "metadata": {},
   "outputs": [
    {
     "name": "stdout",
     "output_type": "stream",
     "text": [
      "\n",
      "----------------Before---------------\n",
      "\n",
      "DateOFBirth     int64\n",
      "State          object\n",
      "dtype: object\n",
      "           DateOFBirth State\n",
      "Jane        1349720105    NY\n",
      "Nick        1349806505    TX\n",
      "Aaron       1349892905    FL\n",
      "Penelope    1349979305    AL\n",
      "Dean        1350065705    AK\n",
      "Christina   1349792905    TX\n",
      "Cornelia    1349730105    TX\n",
      "\n",
      "----------------After----------------\n",
      "\n",
      "DateOFBirth    datetime64[ns]\n",
      "State                  object\n",
      "dtype: object\n",
      "                  DateOFBirth State\n",
      "Jane      2012-10-08 18:15:05    NY\n",
      "Nick      2012-10-09 18:15:05    TX\n",
      "Aaron     2012-10-10 18:15:05    FL\n",
      "Penelope  2012-10-11 18:15:05    AL\n",
      "Dean      2012-10-12 18:15:05    AK\n",
      "Christina 2012-10-09 14:28:25    TX\n",
      "Cornelia  2012-10-08 21:01:45    TX\n"
     ]
    }
   ],
   "source": [
    "import pandas as pd\n",
    " \n",
    "df = pd.DataFrame({'DateOFBirth': [1349720105, 1349806505, 1349892905,\n",
    "                                   1349979305, 1350065705, 1349792905,\n",
    "                                   1349730105],\n",
    "                   'State': ['NY', 'TX', 'FL', 'AL', 'AK', 'TX', 'TX']\n",
    "                   },\n",
    "                  index=['Jane', 'Nick', 'Aaron', 'Penelope', 'Dean',\n",
    "                         'Christina', 'Cornelia'])\n",
    " \n",
    "print(\"\\n----------------Before---------------\\n\")\n",
    "print(df.dtypes)\n",
    "print(df)\n",
    " \n",
    "df['DateOFBirth'] = pd.to_datetime(df['DateOFBirth'], unit='s')\n",
    " \n",
    "print(\"\\n----------------After----------------\\n\")\n",
    "print(df.dtypes)\n",
    "print(df)"
   ]
  },
  {
   "cell_type": "markdown",
   "metadata": {},
   "source": [
    "# 三十.将 DataFrame 列从 floats 转为 ints "
   ]
  },
  {
   "cell_type": "code",
   "execution_count": 35,
   "metadata": {},
   "outputs": [
    {
     "name": "stdout",
     "output_type": "stream",
     "text": [
      "\n",
      "----------------Before---------------\n",
      "\n",
      "DailyExp    float64\n",
      "State        object\n",
      "dtype: object\n",
      "           DailyExp State\n",
      "Jane          75.70    NY\n",
      "Nick          56.69    TX\n",
      "Aaron         55.69    FL\n",
      "Penelope      96.50    AL\n",
      "Dean          84.90    AK\n",
      "Christina    110.50    TX\n",
      "Cornelia      58.90    TX\n",
      "\n",
      "----------------After----------------\n",
      "\n",
      "DailyExp     int32\n",
      "State       object\n",
      "dtype: object\n",
      "           DailyExp State\n",
      "Jane             75    NY\n",
      "Nick             56    TX\n",
      "Aaron            55    FL\n",
      "Penelope         96    AL\n",
      "Dean             84    AK\n",
      "Christina       110    TX\n",
      "Cornelia         58    TX\n"
     ]
    }
   ],
   "source": [
    "import pandas as pd\n",
    " \n",
    "df = pd.DataFrame({'DailyExp': [75.7, 56.69, 55.69, 96.5, 84.9, 110.5,\n",
    "                                58.9],\n",
    "                   'State': ['NY', 'TX', 'FL', 'AL', 'AK', 'TX', 'TX']\n",
    "                   },\n",
    "                  index=['Jane', 'Nick', 'Aaron', 'Penelope', 'Dean',\n",
    "                         'Christina', 'Cornelia'])\n",
    " \n",
    "print(\"\\n----------------Before---------------\\n\")\n",
    "print(df.dtypes)\n",
    "print(df)\n",
    " \n",
    "df['DailyExp'] = df['DailyExp'].astype(int)\n",
    " \n",
    "print(\"\\n----------------After----------------\\n\")\n",
    "print(df.dtypes)\n",
    "print(df)"
   ]
  },
  {
   "cell_type": "markdown",
   "metadata": {},
   "source": [
    "# 三十一.如何把 dates 列转换为 DateTime 类型"
   ]
  },
  {
   "cell_type": "code",
   "execution_count": 36,
   "metadata": {},
   "outputs": [
    {
     "name": "stdout",
     "output_type": "stream",
     "text": [
      "\n",
      "----------------Before---------------\n",
      "\n",
      "          DateOfBirth State\n",
      "Jane       1986-11-11    NY\n",
      "Nick       1999-05-12    TX\n",
      "Aaron      1976-01-01    FL\n",
      "Penelope   1986-06-01    AL\n",
      "Dean       1983-06-04    AK\n",
      "Christina  1990-03-07    TX\n",
      "Cornelia   1999-07-09    TX \n",
      "\n",
      "DateOfBirth    object\n",
      "State          object\n",
      "dtype: object\n",
      "\n",
      "----------------After----------------\n",
      "\n",
      "          DateOfBirth State\n",
      "Jane       1986-11-11    NY\n",
      "Nick       1999-05-12    TX\n",
      "Aaron      1976-01-01    FL\n",
      "Penelope   1986-06-01    AL\n",
      "Dean       1983-06-04    AK\n",
      "Christina  1990-03-07    TX\n",
      "Cornelia   1999-07-09    TX \n",
      "\n",
      "DateOfBirth    datetime64[ns]\n",
      "State                  object\n",
      "dtype: object\n"
     ]
    }
   ],
   "source": [
    "import pandas as pd\n",
    " \n",
    "df = pd.DataFrame({'DateOfBirth': ['1986-11-11', '1999-05-12', '1976-01-01',\n",
    "                                   '1986-06-01', '1983-06-04', '1990-03-07',\n",
    "                                   '1999-07-09'],                   \n",
    "                   'State': ['NY', 'TX', 'FL', 'AL', 'AK', 'TX', 'TX']\n",
    "                   },\n",
    "                  index=['Jane', 'Nick', 'Aaron', 'Penelope', 'Dean',\n",
    "                         'Christina', 'Cornelia'])\n",
    " \n",
    "print(\"\\n----------------Before---------------\\n\")\n",
    "print(df,'\\n')\n",
    "print(df.dtypes)\n",
    "  \n",
    "df['DateOfBirth'] = df['DateOfBirth'].astype('datetime64')\n",
    "  \n",
    "print(\"\\n----------------After----------------\\n\")\n",
    "print(df,'\\n')\n",
    "print(df.dtypes)"
   ]
  },
  {
   "cell_type": "markdown",
   "metadata": {},
   "source": [
    "# 三十二.两个 DataFrame 相加"
   ]
  },
  {
   "cell_type": "code",
   "execution_count": 37,
   "metadata": {},
   "outputs": [
    {
     "name": "stdout",
     "output_type": "stream",
     "text": [
      "           Age  Color    Food  Height  Score State\n",
      "Jane        30    NaN     NaN   165.0    4.6    NY\n",
      "Nick        20    NaN     NaN    70.0    8.3    TX\n",
      "Aaron       22    NaN     NaN   120.0    9.0    FL\n",
      "Penelope    40    NaN     NaN    80.0    3.3    AL\n",
      "Dean        32   Gray  Cheese     NaN    1.8    AK\n",
      "Christina   28  Black   Melon     NaN    9.5    TX\n",
      "Cornelia    39    Red   Beans     NaN    2.2    TX\n"
     ]
    }
   ],
   "source": [
    "import pandas as pd\n",
    " \n",
    "df1 = pd.DataFrame({'Age': [30, 20, 22, 40], 'Height': [165, 70, 120, 80],\n",
    "                    'Score': [4.6, 8.3, 9.0, 3.3], 'State': ['NY', 'TX',\n",
    "                                                             'FL', 'AL']},\n",
    "                   index=['Jane', 'Nick', 'Aaron', 'Penelope'])\n",
    " \n",
    "df2 = pd.DataFrame({'Age': [32, 28, 39], 'Color': ['Gray', 'Black', 'Red'],\n",
    "                    'Food': ['Cheese', 'Melon', 'Beans'],\n",
    "                    'Score': [1.8, 9.5, 2.2], 'State': ['AK', 'TX', 'TX']},\n",
    "                   index=['Dean', 'Christina', 'Cornelia'])\n",
    " \n",
    "df3 = df1.append(df2, sort=True)\n",
    "\n",
    "print(df3)"
   ]
  },
  {
   "cell_type": "markdown",
   "metadata": {},
   "source": [
    "# 三十三.在 DataFrame 末尾添加额外的行"
   ]
  },
  {
   "cell_type": "code",
   "execution_count": 38,
   "metadata": {},
   "outputs": [
    {
     "name": "stdout",
     "output_type": "stream",
     "text": [
      "\n",
      "------------ BEFORE ----------------\n",
      "\n",
      "  EmpCode     Name    Occupation Date Of Join  Age\n",
      "0  Emp001     John       Chemist   2018-01-25   23\n",
      "1  Emp002      Doe  Statistician   2018-01-26   24\n",
      "2  Emp003  William  Statistician   2018-01-26   34\n",
      "3  Emp004    Spark  Statistician   2018-02-26   29\n",
      "4  Emp005     Mark    Programmer   2018-03-16   40\n",
      "\n",
      "------------ AFTER ----------------\n",
      "\n",
      "  EmpCode        Name    Occupation Date Of Join         Age\n",
      "0  Emp001        John       Chemist   2018-01-25          23\n",
      "1  Emp002         Doe  Statistician   2018-01-26          24\n",
      "2  Emp003     William  Statistician   2018-01-26          34\n",
      "3  Emp004       Spark  Statistician   2018-02-26          29\n",
      "4  Emp005        Mark    Programmer   2018-03-16          40\n",
      "5      45  2018-01-25        Emp006        Sunny  Programmer\n"
     ]
    }
   ],
   "source": [
    "import pandas as pd\n",
    " \n",
    "employees = pd.DataFrame({\n",
    "    'EmpCode': ['Emp001', 'Emp002', 'Emp003', 'Emp004', 'Emp005'],\n",
    "    'Name': ['John', 'Doe', 'William', 'Spark', 'Mark'],\n",
    "    'Occupation': ['Chemist', 'Statistician', 'Statistician',\n",
    "                   'Statistician', 'Programmer'],\n",
    "    'Date Of Join': ['2018-01-25', '2018-01-26', '2018-01-26', '2018-02-26',\n",
    "                     '2018-03-16'],\n",
    "    'Age': [23, 24, 34, 29, 40]})\n",
    " \n",
    "print(\"\\n------------ BEFORE ----------------\\n\")\n",
    "print(employees)\n",
    " \n",
    "employees.loc[len(employees)] = [45, '2018-01-25', 'Emp006', 'Sunny',\n",
    "                                 'Programmer']\n",
    "\n",
    "print(\"\\n------------ AFTER ----------------\\n\")\n",
    "print(employees)"
   ]
  },
  {
   "cell_type": "markdown",
   "metadata": {},
   "source": [
    "# 三十四.为指定索引添加新行"
   ]
  },
  {
   "cell_type": "code",
   "execution_count": 39,
   "metadata": {},
   "outputs": [
    {
     "name": "stdout",
     "output_type": "stream",
     "text": [
      "\n",
      "------------ BEFORE ----------------\n",
      "\n",
      "                 Name    Occupation Date Of Join  Age\n",
      "Emp001       John Doe       Chemist   2018-01-25   23\n",
      "Emp002  William Spark  Statistician   2018-01-26   24\n",
      "\n",
      "------------ AFTER ----------------\n",
      "\n",
      "                 Name    Occupation Date Of Join  Age\n",
      "Emp001       John Doe       Chemist   2018-01-25   23\n",
      "Emp002  William Spark  Statistician   2018-01-26   24\n",
      "Emp003          Sunny    Programmer   2018-01-25   45\n"
     ]
    }
   ],
   "source": [
    "import pandas as pd\n",
    " \n",
    "employees = pd.DataFrame(\n",
    "    data={'Name': ['John Doe', 'William Spark'],\n",
    "          'Occupation': ['Chemist', 'Statistician'],\n",
    "          'Date Of Join': ['2018-01-25', '2018-01-26'],\n",
    "          'Age': [23, 24]},\n",
    "    index=['Emp001', 'Emp002'],\n",
    "    columns=['Name', 'Occupation', 'Date Of Join', 'Age'])\n",
    " \n",
    "print(\"\\n------------ BEFORE ----------------\\n\")\n",
    "print(employees)\n",
    " \n",
    "employees.loc['Emp003'] = ['Sunny', 'Programmer', '2018-01-25', 45]\n",
    "\n",
    "print(\"\\n------------ AFTER ----------------\\n\")\n",
    "print(employees)"
   ]
  },
  {
   "cell_type": "markdown",
   "metadata": {},
   "source": [
    "# 三十五.如何使用 for 循环添加行"
   ]
  },
  {
   "cell_type": "code",
   "execution_count": 40,
   "metadata": {},
   "outputs": [
    {
     "name": "stdout",
     "output_type": "stream",
     "text": [
      "     Zip\n",
      "0  32100\n",
      "1  32101\n",
      "2  32102\n",
      "3  32103\n",
      "4  32104\n",
      "5  32105\n",
      "6  32106\n",
      "7  32107\n",
      "8  32108\n",
      "9  32109\n"
     ]
    }
   ],
   "source": [
    "import pandas as pd\n",
    " \n",
    "cols = ['Zip']\n",
    "lst = []\n",
    "zip = 32100\n",
    " \n",
    "for a in range(10):\n",
    "    lst.append([zip])\n",
    "    zip = zip + 1\n",
    " \n",
    "df = pd.DataFrame(lst, columns=cols)\n",
    " \n",
    "print(df)"
   ]
  },
  {
   "cell_type": "markdown",
   "metadata": {},
   "source": [
    "# 三十六.在 DataFrame 顶部添加一行"
   ]
  },
  {
   "cell_type": "code",
   "execution_count": 41,
   "metadata": {},
   "outputs": [
    {
     "name": "stdout",
     "output_type": "stream",
     "text": [
      "\n",
      "------------ BEFORE ----------------\n",
      "\n",
      "  EmpCode     Name    Occupation Date Of Join  Age\n",
      "0  Emp002     John       Chemist   2018-01-25   23\n",
      "1  Emp003      Doe  Statistician   2018-01-26   24\n",
      "2  Emp004  William  Statistician   2018-01-26   34\n",
      "\n",
      "------------ AFTER ----------------\n",
      "\n",
      "      Name  Age EmpCode Date Of Join    Occupation\n",
      "0     Dean   45  Emp001   2018-02-26       Chemist\n",
      "1     John   23  Emp002   2018-01-25       Chemist\n",
      "2      Doe   24  Emp003   2018-01-26  Statistician\n",
      "3  William   34  Emp004   2018-01-26  Statistician\n"
     ]
    }
   ],
   "source": [
    "import pandas as pd\n",
    " \n",
    "employees = pd.DataFrame({\n",
    "    'EmpCode': ['Emp002', 'Emp003', 'Emp004'],\n",
    "    'Name': ['John', 'Doe', 'William'],\n",
    "    'Occupation': ['Chemist', 'Statistician', 'Statistician'],\n",
    "    'Date Of Join': ['2018-01-25', '2018-01-26', '2018-01-26'],\n",
    "    'Age': [23, 24, 34]})\n",
    " \n",
    "print(\"\\n------------ BEFORE ----------------\\n\")\n",
    "print(employees)\n",
    " \n",
    "# New line\n",
    "line = pd.DataFrame({'Name': 'Dean', 'Age': 45, 'EmpCode': 'Emp001',\n",
    "                     'Date Of Join': '2018-02-26', 'Occupation': 'Chemist'\n",
    "                     }, index=[0])\n",
    " \n",
    "# Concatenate two dataframe\n",
    "employees = pd.concat([line,employees.iloc[:]]).reset_index(drop=True)\n",
    " \n",
    "print(\"\\n------------ AFTER ----------------\\n\")\n",
    "print(employees)"
   ]
  },
  {
   "cell_type": "markdown",
   "metadata": {},
   "source": [
    "# 三十七.如何向 DataFrame 中动态添加行"
   ]
  },
  {
   "cell_type": "code",
   "execution_count": 42,
   "metadata": {},
   "outputs": [
    {
     "name": "stdout",
     "output_type": "stream",
     "text": [
      "    Name  Age\n",
      "1  Rocky   23\n",
      "2  Sunny  NaN\n"
     ]
    }
   ],
   "source": [
    "import pandas as pd\n",
    " \n",
    "df = pd.DataFrame(columns=['Name', 'Age'])\n",
    " \n",
    "df.loc[1, 'Name'] = 'Rocky'\n",
    "df.loc[1, 'Age'] = 23\n",
    " \n",
    "df.loc[2, 'Name'] = 'Sunny'\n",
    " \n",
    "print(df)"
   ]
  },
  {
   "cell_type": "markdown",
   "metadata": {},
   "source": [
    "# 三十八.在任意位置插入行"
   ]
  },
  {
   "cell_type": "code",
   "execution_count": 43,
   "metadata": {},
   "outputs": [
    {
     "name": "stdout",
     "output_type": "stream",
     "text": [
      "\n",
      "------------ BEFORE ----------------\n",
      "\n",
      "     Name Age\n",
      "1   Rocky  21\n",
      "2   Sunny  22\n",
      "3    Mark  25\n",
      "4  Taylor  28\n",
      "\n",
      "------------ AFTER ----------------\n",
      "\n",
      "     Name Age\n",
      "0   Rocky  21\n",
      "1   Sunny  22\n",
      "2    Jack  24\n",
      "3    Mark  25\n",
      "4  Taylor  28\n"
     ]
    }
   ],
   "source": [
    "import pandas as pd\n",
    " \n",
    "df = pd.DataFrame(columns=['Name', 'Age'])\n",
    " \n",
    "df.loc[1, 'Name'] = 'Rocky'\n",
    "df.loc[1, 'Age'] = 21\n",
    " \n",
    "df.loc[2, 'Name'] = 'Sunny'\n",
    "df.loc[2, 'Age'] = 22\n",
    " \n",
    "df.loc[3, 'Name'] = 'Mark'\n",
    "df.loc[3, 'Age'] = 25\n",
    " \n",
    "df.loc[4, 'Name'] = 'Taylor'\n",
    "df.loc[4, 'Age'] = 28\n",
    " \n",
    "print(\"\\n------------ BEFORE ----------------\\n\")\n",
    "print(df)\n",
    " \n",
    "line = pd.DataFrame({\"Name\": \"Jack\", \"Age\": 24}, index=[2.5])\n",
    "df = df.append(line, ignore_index=False)\n",
    "df = df.sort_index().reset_index(drop=True)\n",
    " \n",
    "df = df.reindex(['Name', 'Age'], axis=1)\n",
    "print(\"\\n------------ AFTER ----------------\\n\")\n",
    "print(df)"
   ]
  },
  {
   "cell_type": "markdown",
   "metadata": {},
   "source": [
    "# 三十九.使用时间戳索引向 DataFrame 中添加行"
   ]
  },
  {
   "cell_type": "code",
   "execution_count": 44,
   "metadata": {},
   "outputs": [
    {
     "name": "stdout",
     "output_type": "stream",
     "text": [
      "\n",
      "------------ BEFORE ----------------\n",
      "\n",
      "                      Name Age\n",
      "2014-05-01 18:47:05  Rocky  21\n",
      "2014-05-02 18:47:05  Sunny  22\n",
      "2014-05-03 18:47:05   Mark  25\n",
      "\n",
      "------------ AFTER ----------------\n",
      "\n",
      "                      Name Age\n",
      "2014-05-01 18:47:05  Rocky  21\n",
      "2014-05-02 18:47:05  Sunny  22\n",
      "2014-05-03 18:47:05   Mark  25\n",
      "2014-05-01 18:50:05  Bunny  26\n"
     ]
    }
   ],
   "source": [
    "import pandas as pd\n",
    " \n",
    "df = pd.DataFrame(columns=['Name', 'Age'])\n",
    " \n",
    "df.loc['2014-05-01 18:47:05', 'Name'] = 'Rocky'\n",
    "df.loc['2014-05-01 18:47:05', 'Age'] = 21\n",
    " \n",
    "df.loc['2014-05-02 18:47:05', 'Name'] = 'Sunny'\n",
    "df.loc['2014-05-02 18:47:05', 'Age'] = 22\n",
    " \n",
    "df.loc['2014-05-03 18:47:05', 'Name'] = 'Mark'\n",
    "df.loc['2014-05-03 18:47:05', 'Age'] = 25\n",
    " \n",
    "print(\"\\n------------ BEFORE ----------------\\n\")\n",
    "print(df)\n",
    " \n",
    "line = pd.to_datetime(\"2014-05-01 18:50:05\", format=\"%Y-%m-%d %H:%M:%S\")\n",
    "new_row = pd.DataFrame([['Bunny', 26]], columns=['Name', 'Age'], index=[line])\n",
    "df = pd.concat([df, pd.DataFrame(new_row)], ignore_index=False)\n",
    " \n",
    "print(\"\\n------------ AFTER ----------------\\n\")\n",
    "print(df)"
   ]
  },
  {
   "cell_type": "markdown",
   "metadata": {},
   "source": [
    "# 四十.为不同的行填充缺失值"
   ]
  },
  {
   "cell_type": "code",
   "execution_count": 45,
   "metadata": {},
   "outputs": [
    {
     "name": "stdout",
     "output_type": "stream",
     "text": [
      "      A   B     C     D\n",
      "0  10.0  20   0.0   0.0\n",
      "1   0.0  30  40.0  50.0\n"
     ]
    }
   ],
   "source": [
    "import pandas as pd\n",
    " \n",
    "a = {'A': 10, 'B': 20}\n",
    "b = {'B': 30, 'C': 40, 'D': 50}\n",
    " \n",
    "df1 = pd.DataFrame(a, index=[0])\n",
    "df2 = pd.DataFrame(b, index=[1])\n",
    " \n",
    "df = pd.DataFrame()\n",
    "df = df.append(df1)\n",
    "df = df.append(df2).fillna(0)\n",
    " \n",
    "print(df)"
   ]
  },
  {
   "cell_type": "markdown",
   "metadata": {},
   "source": [
    "# 四十一.append, concat 和 combine_first 示例\n",
    "- combine_first:当左表存在空值时，右表对应位置的值会替换左表的空值，但是必须是字段名和索引值相同的位置，如果两个表不是结构相同的，那么就会默认采用全连接（并集）的方式联结两表"
   ]
  },
  {
   "cell_type": "code",
   "execution_count": 46,
   "metadata": {},
   "outputs": [
    {
     "name": "stdout",
     "output_type": "stream",
     "text": [
      "\n",
      "------------ append ----------------\n",
      "\n",
      "      A   B     C     D\n",
      "0  10.0  20   0.0   0.0\n",
      "1   0.0  30  40.0  50.0\n",
      "\n",
      "------------ concat ----------------\n",
      "\n",
      "      A   B     C     D\n",
      "0  10.0  20   0.0   0.0\n",
      "1   0.0  30  40.0  50.0\n",
      "\n",
      "------------ combine_first ----------------\n",
      "\n",
      "      A     B     C     D\n",
      "0  10.0  20.0   0.0   0.0\n",
      "1   0.0  30.0  40.0  50.0\n"
     ]
    }
   ],
   "source": [
    "import pandas as pd\n",
    " \n",
    "a = {'A': 10, 'B': 20}\n",
    "b = {'B': 30, 'C': 40, 'D': 50}\n",
    " \n",
    "df1 = pd.DataFrame(a, index=[0])\n",
    "df2 = pd.DataFrame(b, index=[1])\n",
    " \n",
    "d1 = pd.DataFrame()\n",
    "d1 = d1.append(df1)\n",
    "d1 = d1.append(df2).fillna(0)\n",
    "print(\"\\n------------ append ----------------\\n\")\n",
    "print(d1)\n",
    " \n",
    "d2 = pd.concat([df1, df2]).fillna(0)\n",
    "print(\"\\n------------ concat ----------------\\n\")\n",
    "print(d2)\n",
    " \n",
    "d3 = pd.DataFrame()\n",
    "d3 = d3.combine_first(df1).combine_first(df2).fillna(0)\n",
    "print(\"\\n------------ combine_first ----------------\\n\")\n",
    "print(d3)"
   ]
  },
  {
   "cell_type": "markdown",
   "metadata": {},
   "source": [
    "# 四十二.获取行和列的平均值"
   ]
  },
  {
   "cell_type": "code",
   "execution_count": 47,
   "metadata": {},
   "outputs": [
    {
     "name": "stdout",
     "output_type": "stream",
     "text": [
      "                Apple  Orange  Banana       Pear  Mean Basket\n",
      "Basket1     10.000000    20.0    30.0  40.000000         25.0\n",
      "Basket2      7.000000    14.0    21.0  28.000000         17.5\n",
      "Basket3      5.000000     5.0     0.0   0.000000          2.5\n",
      "Mean Fruit   7.333333    13.0    17.0  22.666667         15.0\n"
     ]
    }
   ],
   "source": [
    "import pandas as pd\n",
    " \n",
    "df = pd.DataFrame([[10, 20, 30, 40], [7, 14, 21, 28], [5, 5, 0, 0]],\n",
    "                  columns=['Apple', 'Orange', 'Banana', 'Pear'],\n",
    "                  index=['Basket1', 'Basket2', 'Basket3'])\n",
    " \n",
    "df['Mean Basket'] = df.mean(axis=1)\n",
    "df.loc['Mean Fruit'] = df.mean()\n",
    " \n",
    "print(df)"
   ]
  },
  {
   "cell_type": "markdown",
   "metadata": {},
   "source": [
    "# 四十三.计算行和列的总和"
   ]
  },
  {
   "cell_type": "code",
   "execution_count": 48,
   "metadata": {},
   "outputs": [
    {
     "name": "stdout",
     "output_type": "stream",
     "text": [
      "           Apple  Orange  Banana  Pear  Sum Basket\n",
      "Basket1       10      20      30    40         100\n",
      "Basket2        7      14      21    28          70\n",
      "Basket3        5       5       0     0          10\n",
      "Sum Fruit     22      39      51    68         180\n"
     ]
    }
   ],
   "source": [
    "import pandas as pd\n",
    " \n",
    "df = pd.DataFrame([[10, 20, 30, 40], [7, 14, 21, 28], [5, 5, 0, 0]],\n",
    "                  columns=['Apple', 'Orange', 'Banana', 'Pear'],\n",
    "                  index=['Basket1', 'Basket2', 'Basket3'])\n",
    " \n",
    "df['Sum Basket'] = df.sum(axis=1)\n",
    "df.loc['Sum Fruit'] = df.sum()\n",
    " \n",
    "print(df)"
   ]
  },
  {
   "cell_type": "markdown",
   "metadata": {},
   "source": [
    "# 四十四.连接两列"
   ]
  },
  {
   "cell_type": "code",
   "execution_count": 49,
   "metadata": {},
   "outputs": [
    {
     "name": "stdout",
     "output_type": "stream",
     "text": [
      "\n",
      "------------ BEFORE ----------------\n",
      "\n",
      "     Name Age\n",
      "1   Rocky  21\n",
      "2   Sunny  22\n",
      "3    Mark  25\n",
      "4  Taylor  28\n",
      "\n",
      "------------ AFTER ----------------\n",
      "\n",
      "      Employee\n",
      "1   Rocky - 21\n",
      "2   Sunny - 22\n",
      "3    Mark - 25\n",
      "4  Taylor - 28\n"
     ]
    }
   ],
   "source": [
    "import pandas as pd\n",
    " \n",
    "df = pd.DataFrame(columns=['Name', 'Age'])\n",
    " \n",
    "df.loc[1, 'Name'] = 'Rocky'\n",
    "df.loc[1, 'Age'] = 21\n",
    " \n",
    "df.loc[2, 'Name'] = 'Sunny'\n",
    "df.loc[2, 'Age'] = 22\n",
    " \n",
    "df.loc[3, 'Name'] = 'Mark'\n",
    "df.loc[3, 'Age'] = 25\n",
    " \n",
    "df.loc[4, 'Name'] = 'Taylor'\n",
    "df.loc[4, 'Age'] = 28\n",
    " \n",
    "print('\\n------------ BEFORE ----------------\\n')\n",
    "print(df)\n",
    " \n",
    "df['Employee'] = df['Name'].map(str) + ' - ' + df['Age'].map(str)\n",
    "df = df.reindex(['Employee'], axis=1)\n",
    " \n",
    "print('\\n------------ AFTER ----------------\\n')\n",
    "print(df)"
   ]
  },
  {
   "cell_type": "markdown",
   "metadata": {},
   "source": [
    "# 四十五.过滤包含某字符串的行"
   ]
  },
  {
   "cell_type": "code",
   "execution_count": 50,
   "metadata": {},
   "outputs": [
    {
     "name": "stdout",
     "output_type": "stream",
     "text": [
      "          DateOfBirth State\n",
      "Jane       1986-11-11    NY\n",
      "Nick       1999-05-12    TX\n",
      "Aaron      1976-01-01    FL\n",
      "Penelope   1986-06-01    AL\n",
      "Dean       1983-06-04    AK\n",
      "Christina  1990-03-07    TX\n",
      "Cornelia   1999-07-09    TX\n",
      "\n",
      "---- Filter with State contains TX ----\n",
      "\n",
      "          DateOfBirth State\n",
      "Nick       1999-05-12    TX\n",
      "Christina  1990-03-07    TX\n",
      "Cornelia   1999-07-09    TX\n"
     ]
    }
   ],
   "source": [
    "import pandas as pd\n",
    " \n",
    "df = pd.DataFrame({'DateOfBirth': ['1986-11-11', '1999-05-12', '1976-01-01',\n",
    "                                   '1986-06-01', '1983-06-04', '1990-03-07',\n",
    "                                   '1999-07-09'],\n",
    "                   'State': ['NY', 'TX', 'FL', 'AL', 'AK', 'TX', 'TX']\n",
    "                   },\n",
    "                  index=['Jane', 'Nick', 'Aaron', 'Penelope', 'Dean',\n",
    "                         'Christina', 'Cornelia'])\n",
    "print(df)\n",
    " \n",
    "print(\"\\n---- Filter with State contains TX ----\\n\")\n",
    "df1 = df[df['State'].str.contains(\"TX\")]\n",
    " \n",
    "print(df1)"
   ]
  },
  {
   "cell_type": "markdown",
   "metadata": {},
   "source": [
    "# 四十六.过滤索引中包含某字符串的行"
   ]
  },
  {
   "cell_type": "code",
   "execution_count": 51,
   "metadata": {},
   "outputs": [
    {
     "name": "stdout",
     "output_type": "stream",
     "text": [
      "          DateOfBirth State\n",
      "Jane       1986-11-11    NY\n",
      "Pane       1999-05-12    TX\n",
      "Aaron      1976-01-01    FL\n",
      "Penelope   1986-06-01    AL\n",
      "Frane      1983-06-04    AK\n",
      "Christina  1990-03-07    TX\n",
      "Cornelia   1999-07-09    TX\n",
      "\n",
      "---- Filter Index contains ane ----\n",
      "\n",
      "      DateOfBirth State\n",
      "Jane   1986-11-11    NY\n",
      "Pane   1999-05-12    TX\n",
      "Frane  1983-06-04    AK\n"
     ]
    }
   ],
   "source": [
    "import pandas as pd\n",
    " \n",
    "df = pd.DataFrame({'DateOfBirth': ['1986-11-11', '1999-05-12', '1976-01-01',\n",
    "                                   '1986-06-01', '1983-06-04', '1990-03-07',\n",
    "                                   '1999-07-09'],\n",
    "                   'State': ['NY', 'TX', 'FL', 'AL', 'AK', 'TX', 'TX']\n",
    "                   },\n",
    "                  index=['Jane', 'Pane', 'Aaron', 'Penelope', 'Frane',\n",
    "                         'Christina', 'Cornelia'])\n",
    "print(df)\n",
    "print(\"\\n---- Filter Index contains ane ----\\n\")\n",
    "df.index = df.index.astype('str')\n",
    "df1 = df[df.index.str.contains('ane')]\n",
    " \n",
    "print(df1)"
   ]
  },
  {
   "cell_type": "markdown",
   "metadata": {},
   "source": [
    "# 四十七.使用 AND 运算符过滤包含特定字符串值的行"
   ]
  },
  {
   "cell_type": "code",
   "execution_count": 52,
   "metadata": {},
   "outputs": [
    {
     "name": "stdout",
     "output_type": "stream",
     "text": [
      "          DateOfBirth State\n",
      "Jane       1986-11-11    NY\n",
      "Pane       1999-05-12    TX\n",
      "Aaron      1976-01-01    FL\n",
      "Penelope   1986-06-01    AL\n",
      "Frane      1983-06-04    AK\n",
      "Christina  1990-03-07    TX\n",
      "Cornelia   1999-07-09    TX\n",
      "\n",
      "---- Filter DataFrame using & ----\n",
      "\n",
      "     DateOfBirth State\n",
      "Pane  1999-05-12    TX\n"
     ]
    }
   ],
   "source": [
    "import pandas as pd\n",
    " \n",
    "df = pd.DataFrame({'DateOfBirth': ['1986-11-11', '1999-05-12', '1976-01-01',\n",
    "                                   '1986-06-01', '1983-06-04', '1990-03-07',\n",
    "                                   '1999-07-09'],\n",
    "                   'State': ['NY', 'TX', 'FL', 'AL', 'AK', 'TX', 'TX']\n",
    "                   },\n",
    "                  index=['Jane', 'Pane', 'Aaron', 'Penelope', 'Frane',\n",
    "                         'Christina', 'Cornelia'])\n",
    "print(df)\n",
    " \n",
    "print(\"\\n---- Filter DataFrame using & ----\\n\")\n",
    " \n",
    "df.index = df.index.astype('str')\n",
    "df1 = df[df.index.str.contains('ane') & df['State'].str.contains(\"TX\")]\n",
    " \n",
    "print(df1)"
   ]
  },
  {
   "cell_type": "markdown",
   "metadata": {},
   "source": [
    "# 四十八.查找包含某字符串的所有行"
   ]
  },
  {
   "cell_type": "code",
   "execution_count": 53,
   "metadata": {},
   "outputs": [
    {
     "name": "stdout",
     "output_type": "stream",
     "text": [
      "          DateOfBirth State\n",
      "Jane       1986-11-11    NY\n",
      "Pane       1999-05-12    TX\n",
      "Aaron      1976-01-01    FL\n",
      "Penelope   1986-06-01    AL\n",
      "Frane      1983-06-04    AK\n",
      "Christina  1990-03-07    TX\n",
      "Cornelia   1999-07-09    TX\n",
      "\n",
      "---- Filter DataFrame using & ----\n",
      "\n",
      "          DateOfBirth State\n",
      "Jane       1986-11-11    NY\n",
      "Pane       1999-05-12    TX\n",
      "Frane      1983-06-04    AK\n",
      "Christina  1990-03-07    TX\n",
      "Cornelia   1999-07-09    TX\n"
     ]
    }
   ],
   "source": [
    "import pandas as pd\n",
    " \n",
    "df = pd.DataFrame({'DateOfBirth': ['1986-11-11', '1999-05-12', '1976-01-01',\n",
    "                                   '1986-06-01', '1983-06-04', '1990-03-07',\n",
    "                                   '1999-07-09'],\n",
    "                   'State': ['NY', 'TX', 'FL', 'AL', 'AK', 'TX', 'TX']\n",
    "                   },\n",
    "                  index=['Jane', 'Pane', 'Aaron', 'Penelope', 'Frane',\n",
    "                         'Christina', 'Cornelia'])\n",
    "print(df)\n",
    " \n",
    "print(\"\\n---- Filter DataFrame using & ----\\n\")\n",
    " \n",
    "df.index = df.index.astype('str')\n",
    "df1 = df[df.index.str.contains('ane') | df['State'].str.contains(\"TX\")]\n",
    " \n",
    "print(df1)"
   ]
  },
  {
   "cell_type": "markdown",
   "metadata": {},
   "source": [
    "# 四十九.如果行中的值包含字符串，则创建与字符串相等的另一列"
   ]
  },
  {
   "cell_type": "code",
   "execution_count": 54,
   "metadata": {},
   "outputs": [
    {
     "name": "stdout",
     "output_type": "stream",
     "text": [
      "  EmpCode     Name    Occupation Date Of Join  Age Department\n",
      "0  Emp001     John       Chemist   2018-01-25   23    Science\n",
      "1  Emp002      Doe    Accountant   2018-01-26   24    General\n",
      "2  Emp003  William  Statistician   2018-01-26   34  Economics\n",
      "3  Emp004    Spark  Statistician   2018-02-26   29  Economics\n",
      "4  Emp005     Mark    Programmer   2018-03-16   40   Computer\n"
     ]
    }
   ],
   "source": [
    "import pandas as pd\n",
    "import numpy as np\n",
    " \n",
    "df = pd.DataFrame({\n",
    "    'EmpCode': ['Emp001', 'Emp002', 'Emp003', 'Emp004', 'Emp005'],\n",
    "    'Name': ['John', 'Doe', 'William', 'Spark', 'Mark'],\n",
    "    'Occupation': ['Chemist', 'Accountant', 'Statistician',\n",
    "                   'Statistician', 'Programmer'],\n",
    "    'Date Of Join': ['2018-01-25', '2018-01-26', '2018-01-26', '2018-02-26',\n",
    "                     '2018-03-16'],\n",
    "    'Age': [23, 24, 34, 29, 40]})\n",
    " \n",
    "df['Department'] = np.where(df.Occupation.str.contains(\"Chemist\"), \"Science\",\n",
    "                              np.where(df.Occupation.str.contains(\"Statistician\"), \"Economics\",\n",
    "                              np.where(df.Occupation.str.contains(\"Programmer\"), \"Computer\", \"General\")))\n",
    "\n",
    "print(df)"
   ]
  },
  {
   "cell_type": "markdown",
   "metadata": {},
   "source": [
    "# 五十.计算 pandas group 中每组的行数"
   ]
  },
  {
   "cell_type": "code",
   "execution_count": 55,
   "metadata": {},
   "outputs": [
    {
     "name": "stdout",
     "output_type": "stream",
     "text": [
      "         Apple  Orange  Rice  Oil\n",
      "Basket1     10      20    30   40\n",
      "Basket2      7      14    21   28\n",
      "Basket3      5       5     0    0\n",
      "Basket4      6       6     6    6\n",
      "Basket5      8       8     8    8\n",
      "Basket6      5       5     0    0\n",
      "\n",
      " ----------------------------- \n",
      "\n",
      "      Orange       Rice        Oil      \n",
      "        mean count mean count mean count\n",
      "Apple                                   \n",
      "5          5     2    0     2    0     2\n",
      "6          6     1    6     1    6     1\n",
      "7         14     1   21     1   28     1\n",
      "8          8     1    8     1    8     1\n",
      "10        20     1   30     1   40     1\n"
     ]
    }
   ],
   "source": [
    "import pandas as pd\n",
    " \n",
    "df = pd.DataFrame([[10, 20, 30, 40], [7, 14, 21, 28], [5, 5, 0, 0],\n",
    "                   [6, 6, 6, 6], [8, 8, 8, 8], [5, 5, 0, 0]],\n",
    "                  columns=['Apple', 'Orange', 'Rice', 'Oil'],\n",
    "                  index=['Basket1', 'Basket2', 'Basket3',\n",
    "                         'Basket4', 'Basket5', 'Basket6'])\n",
    " \n",
    "print(df)\n",
    "print(\"\\n ----------------------------- \\n\")\n",
    "print(df[['Apple', 'Orange', 'Rice', 'Oil']].\n",
    "      groupby(['Apple']).agg(['mean', 'count']))"
   ]
  },
  {
   "cell_type": "markdown",
   "metadata": {},
   "source": [
    "# 五十一.检查字符串是否在 DataFrme 中"
   ]
  },
  {
   "cell_type": "code",
   "execution_count": 56,
   "metadata": {},
   "outputs": [
    {
     "name": "stdout",
     "output_type": "stream",
     "text": [
      "TX is there\n"
     ]
    }
   ],
   "source": [
    "import pandas as pd\n",
    " \n",
    "df = pd.DataFrame({'DateOfBirth': ['1986-11-11', '1999-05-12', '1976-01-01',\n",
    "                                   '1986-06-01', '1983-06-04', '1990-03-07',\n",
    "                                   '1999-07-09'],\n",
    "                   'State': ['NY', 'TX', 'FL', 'AL', 'AK', 'TX', 'TX']\n",
    "                   },\n",
    "                  index=['Jane', 'Pane', 'Aaron', 'Penelope', 'Frane',\n",
    "                         'Christina', 'Cornelia'])\n",
    " \n",
    "if df['State'].str.contains('TX').any():\n",
    "    print(\"TX is there\")"
   ]
  },
  {
   "cell_type": "markdown",
   "metadata": {},
   "source": [
    "# 五十二.从 DataFrame 列中获取唯一行值"
   ]
  },
  {
   "cell_type": "code",
   "execution_count": 57,
   "metadata": {},
   "outputs": [
    {
     "name": "stdout",
     "output_type": "stream",
     "text": [
      "          State\n",
      "Jane         NY\n",
      "Nick         TX\n",
      "Aaron        FL\n",
      "Penelope     AL\n",
      "Dean         AK\n",
      "Christina    TX\n",
      "Cornelia     TX\n",
      "\n",
      "----------------\n",
      "\n",
      "['NY' 'TX' 'FL' 'AL' 'AK']\n"
     ]
    }
   ],
   "source": [
    "import pandas as pd\n",
    " \n",
    "df = pd.DataFrame({'State': ['NY', 'TX', 'FL', 'AL', 'AK', 'TX', 'TX']\n",
    "                   },\n",
    "                  index=['Jane', 'Nick', 'Aaron', 'Penelope', 'Dean',\n",
    "                         'Christina', 'Cornelia'])\n",
    " \n",
    "print(df)\n",
    "print(\"\\n----------------\\n\")\n",
    " \n",
    "print(df[\"State\"].unique())"
   ]
  },
  {
   "cell_type": "markdown",
   "metadata": {},
   "source": [
    "# 五十三.计算 DataFrame 列的不同值"
   ]
  },
  {
   "cell_type": "code",
   "execution_count": 58,
   "metadata": {},
   "outputs": [
    {
     "name": "stdout",
     "output_type": "stream",
     "text": [
      "          Age  Height  Score State\n",
      "Jane       30     165    4.6    NY\n",
      "Nick       20      70    8.3    TX\n",
      "Aaron      22     120    9.0    FL\n",
      "Penelope   40      80    3.3    AL\n",
      "Jaane      20     162    4.0    NY\n",
      "Nicky      30      72    8.0    TX\n",
      "Armour     20     124    9.0    FL\n",
      "Ponting    25      81    3.0    AL \n",
      "\n",
      "20    3\n",
      "30    2\n",
      "25    1\n",
      "22    1\n",
      "40    1\n",
      "Name: Age, dtype: int64\n"
     ]
    }
   ],
   "source": [
    "import pandas as pd\n",
    " \n",
    "df = pd.DataFrame({'Age': [30, 20, 22, 40, 20, 30, 20, 25],\n",
    "                    'Height': [165, 70, 120, 80, 162, 72, 124, 81],\n",
    "                    'Score': [4.6, 8.3, 9.0, 3.3, 4, 8, 9, 3],\n",
    "                    'State': ['NY', 'TX', 'FL', 'AL', 'NY', 'TX', 'FL', 'AL']},\n",
    "                   index=['Jane', 'Nick', 'Aaron', 'Penelope', 'Jaane', 'Nicky', 'Armour', 'Ponting'])\n",
    "\n",
    "print(df,'\\n')\n",
    " \n",
    "print(df.Age.value_counts())"
   ]
  },
  {
   "cell_type": "markdown",
   "metadata": {},
   "source": [
    "# 五十四.删除具有重复索引的行"
   ]
  },
  {
   "cell_type": "code",
   "execution_count": 59,
   "metadata": {},
   "outputs": [
    {
     "name": "stdout",
     "output_type": "stream",
     "text": [
      "\n",
      " -------- Duplicate Rows ----------- \n",
      "\n",
      "          Age  Height  Score State\n",
      "Jane       30     165    4.6    NY\n",
      "Jane       30     165    4.6    NY\n",
      "Aaron      22     120    9.0    FL\n",
      "Penelope   40      80    3.3    AL\n",
      "Jaane      20     162    4.0    NY\n",
      "Nicky      30      72    8.0    TX\n",
      "Armour     20     124    9.0    FL\n",
      "Ponting    25      81    3.0    AL\n",
      "\n",
      " ------- Unique Rows ------------ \n",
      "\n",
      "          Age  Height  Score State\n",
      "index                             \n",
      "Jane       30     165    4.6    NY\n",
      "Aaron      22     120    9.0    FL\n",
      "Penelope   40      80    3.3    AL\n",
      "Jaane      20     162    4.0    NY\n",
      "Nicky      30      72    8.0    TX\n",
      "Armour     20     124    9.0    FL\n",
      "Ponting    25      81    3.0    AL\n"
     ]
    }
   ],
   "source": [
    "import pandas as pd\n",
    "\n",
    "df = pd.DataFrame({'Age': [30, 30, 22, 40, 20, 30, 20, 25],\n",
    "                   'Height': [165, 165, 120, 80, 162, 72, 124, 81],\n",
    "                   'Score': [4.6, 4.6, 9.0, 3.3, 4, 8, 9, 3],\n",
    "                   'State': ['NY', 'NY', 'FL', 'AL', 'NY', 'TX', 'FL', 'AL']},\n",
    "                  index=['Jane', 'Jane', 'Aaron', 'Penelope', 'Jaane', 'Nicky',\n",
    "                         'Armour', 'Ponting'])\n",
    "\n",
    "print(\"\\n -------- Duplicate Rows ----------- \\n\")\n",
    "print(df)\n",
    "\n",
    "df1 = df.reset_index().drop_duplicates(subset='index',\n",
    "                                       keep='first').set_index('index')\n",
    "\n",
    "print(\"\\n ------- Unique Rows ------------ \\n\")\n",
    "print(df1)"
   ]
  },
  {
   "cell_type": "markdown",
   "metadata": {},
   "source": [
    "# 五十五.删除某些列具有重复值的行"
   ]
  },
  {
   "cell_type": "code",
   "execution_count": 60,
   "metadata": {},
   "outputs": [
    {
     "name": "stdout",
     "output_type": "stream",
     "text": [
      "\n",
      " -------- Duplicate Rows ----------- \n",
      "\n",
      "          Age  Height  Score State\n",
      "Jane       30     120    4.6    NY\n",
      "Jane       40     162    4.6    NY\n",
      "Aaron      30     120    9.0    FL\n",
      "Penelope   40     120    3.3    AL\n",
      "Jaane      30     120    4.0    NY\n",
      "Nicky      30      72    8.0    TX\n",
      "Armour     20     120    9.0    FL\n",
      "Ponting    25      81    3.0    AL\n",
      "\n",
      " ------- Unique Rows ------------ \n",
      "\n",
      "          Age  Height  Score State\n",
      "index                             \n",
      "Jane       30     120    4.6    NY\n",
      "Jane       40     162    4.6    NY\n",
      "Penelope   40     120    3.3    AL\n",
      "Nicky      30      72    8.0    TX\n",
      "Armour     20     120    9.0    FL\n",
      "Ponting    25      81    3.0    AL\n"
     ]
    }
   ],
   "source": [
    "import pandas as pd\n",
    " \n",
    "df = pd.DataFrame({'Age': [30, 40, 30, 40, 30, 30, 20, 25],\n",
    "                   'Height': [120, 162, 120, 120, 120, 72, 120, 81],\n",
    "                   'Score': [4.6, 4.6, 9.0, 3.3, 4, 8, 9, 3],\n",
    "                   'State': ['NY', 'NY', 'FL', 'AL', 'NY', 'TX', 'FL', 'AL']},\n",
    "                  index=['Jane', 'Jane', 'Aaron', 'Penelope', 'Jaane', 'Nicky',\n",
    "                         'Armour', 'Ponting'])\n",
    " \n",
    "print(\"\\n -------- Duplicate Rows ----------- \\n\")\n",
    "print(df)\n",
    " \n",
    "df1 = df.reset_index().drop_duplicates(subset=['Age','Height'],\n",
    "                                       keep='first').set_index('index')\n",
    " \n",
    "print(\"\\n ------- Unique Rows ------------ \\n\")\n",
    "print(df1)"
   ]
  },
  {
   "cell_type": "markdown",
   "metadata": {},
   "source": [
    "# 五十六.从 DataFrame 单元格中获取值"
   ]
  },
  {
   "cell_type": "code",
   "execution_count": 61,
   "metadata": {},
   "outputs": [
    {
     "name": "stdout",
     "output_type": "stream",
     "text": [
      "          Age  Height  Score State\n",
      "Jane       30     120    4.6    NY\n",
      "Jane       40     162    4.6    NY\n",
      "Aaron      30     120    9.0    FL\n",
      "Penelope   40     120    3.3    AL\n",
      "Jaane      30     120    4.0    NY\n",
      "Nicky      30      72    8.0    TX\n",
      "Armour     20     120    9.0    FL\n",
      "Ponting    25      81    3.0    AL \n",
      "\n",
      "30\n"
     ]
    }
   ],
   "source": [
    "import pandas as pd\n",
    "\n",
    "df = pd.DataFrame({'Age': [30, 40, 30, 40, 30, 30, 20, 25],\n",
    "                   'Height': [120, 162, 120, 120, 120, 72, 120, 81],\n",
    "                   'Score': [4.6, 4.6, 9.0, 3.3, 4, 8, 9, 3],\n",
    "                   'State': ['NY', 'NY', 'FL', 'AL', 'NY', 'TX', 'FL', 'AL']},\n",
    "                  index=['Jane', 'Jane', 'Aaron', 'Penelope', 'Jaane', 'Nicky',\n",
    "                         'Armour', 'Ponting'])\n",
    "\n",
    "print(df,'\\n')\n",
    "\n",
    "print(df.loc['Nicky', 'Age'])"
   ]
  },
  {
   "cell_type": "markdown",
   "metadata": {},
   "source": [
    "# 五十七.使用 DataFrame 中的条件索引获取单元格上的标量值"
   ]
  },
  {
   "cell_type": "code",
   "execution_count": 62,
   "metadata": {},
   "outputs": [
    {
     "name": "stdout",
     "output_type": "stream",
     "text": [
      "          Age  Height  Score State\n",
      "Jane       30     120    4.6    NY\n",
      "Jane       40     162    4.6    NY\n",
      "Aaron      30     120    9.0    FL\n",
      "Penelope   40     120    3.3    AL\n",
      "Jaane      30     120    4.0    NY\n",
      "Nicky      30      72    8.0    TX\n",
      "Armour     20     120    9.0    FL\n",
      "Ponting    25      81    3.0    AL \n",
      "\n",
      "\n",
      "Get Height where Age is 20\n",
      "120\n",
      "\n",
      "Get State where Age is 30\n",
      "NY\n"
     ]
    }
   ],
   "source": [
    "import pandas as pd\n",
    "\n",
    "df = pd.DataFrame({'Age': [30, 40, 30, 40, 30, 30, 20, 25],\n",
    "                   'Height': [120, 162, 120, 120, 120, 72, 120, 81],\n",
    "                   'Score': [4.6, 4.6, 9.0, 3.3, 4, 8, 9, 3],\n",
    "                   'State': ['NY', 'NY', 'FL', 'AL', 'NY', 'TX', 'FL', 'AL']},\n",
    "                  index=['Jane', 'Jane', 'Aaron', 'Penelope', 'Jaane', 'Nicky',\n",
    "                         'Armour', 'Ponting'])\n",
    "\n",
    "print(df,'\\n')\n",
    "\n",
    "print(\"\\nGet Height where Age is 20\")\n",
    "print(df.loc[df['Age'] == 20, 'Height'].values[0])\n",
    "\n",
    "print(\"\\nGet State where Age is 30\")\n",
    "print(df.loc[df['Age'] == 30, 'State'].values[0])"
   ]
  },
  {
   "cell_type": "markdown",
   "metadata": {},
   "source": [
    "# 五十八.设置 DataFrame 的特定单元格值"
   ]
  },
  {
   "cell_type": "code",
   "execution_count": 63,
   "metadata": {},
   "outputs": [
    {
     "name": "stdout",
     "output_type": "stream",
     "text": [
      "\n",
      "--------------Before------------\n",
      "\n",
      "          Age  Height\n",
      "Jane       30     120\n",
      "Jane       40     162\n",
      "Aaron      30     120\n",
      "Penelope   40     120\n",
      "Jaane      30     120\n",
      "Nicky      30      72\n",
      "Armour     20     120\n",
      "Ponting    25      81\n",
      "\n",
      "--------------After------------\n",
      "\n",
      "          Age  Height\n",
      "Jane       90      91\n",
      "Jane       40      92\n",
      "Aaron      30      93\n",
      "Penelope   40     120\n",
      "Jaane      30     120\n",
      "Nicky      30      72\n",
      "Armour     20     120\n",
      "Ponting    25      99\n"
     ]
    }
   ],
   "source": [
    "import pandas as pd\n",
    " \n",
    "df = pd.DataFrame({'Age': [30, 40, 30, 40, 30, 30, 20, 25],\n",
    "                   'Height': [120, 162, 120, 120, 120, 72, 120, 81]},\n",
    "                  index=['Jane', 'Jane', 'Aaron', 'Penelope', 'Jaane', 'Nicky',\n",
    "                         'Armour', 'Ponting'])\n",
    "print(\"\\n--------------Before------------\\n\")\n",
    "print(df)\n",
    " \n",
    "df.iat[0, 0] = 90\n",
    "df.iat[0, 1] = 91\n",
    "df.iat[1, 1] = 92\n",
    "df.iat[2, 1] = 93\n",
    "df.iat[7, 1] = 99\n",
    " \n",
    "print(\"\\n--------------After------------\\n\")\n",
    "print(df)"
   ]
  },
  {
   "cell_type": "markdown",
   "metadata": {},
   "source": [
    "# 五十九.从 DataFrame 行获取单元格值"
   ]
  },
  {
   "cell_type": "code",
   "execution_count": 64,
   "metadata": {},
   "outputs": [
    {
     "name": "stdout",
     "output_type": "stream",
     "text": [
      "[120, 120, 120, 72]\n"
     ]
    }
   ],
   "source": [
    "import pandas as pd\n",
    " \n",
    "df = pd.DataFrame({'Age': [30, 40, 30, 40, 30, 30, 20, 25],\n",
    "                   'Height': [120, 162, 120, 120, 120, 72, 120, 81]},\n",
    "                  index=['Jane', 'Jane', 'Aaron', 'Penelope', 'Jaane', 'Nicky',\n",
    "                         'Armour', 'Ponting'])\n",
    " \n",
    " \n",
    "print(df.loc[df.Age == 30,'Height'].tolist())"
   ]
  },
  {
   "cell_type": "markdown",
   "metadata": {},
   "source": [
    "# 六十.用字典替换 DataFrame 列中的值"
   ]
  },
  {
   "cell_type": "code",
   "execution_count": 65,
   "metadata": {},
   "outputs": [
    {
     "name": "stdout",
     "output_type": "stream",
     "text": [
      "          State\n",
      "Jane         NY\n",
      "Nick         TX\n",
      "Aaron        FL\n",
      "Penelope     AL\n",
      "Dean         AK\n",
      "Christina    TX\n",
      "Cornelia     TX\n",
      "\n",
      "\n",
      "\n",
      "           State\n",
      "Jane           1\n",
      "Nick           2\n",
      "Aaron          3\n",
      "Penelope       4\n",
      "Dean           5\n",
      "Christina      2\n",
      "Cornelia       2\n"
     ]
    }
   ],
   "source": [
    "import pandas as pd\n",
    " \n",
    "df = pd.DataFrame({'State': ['NY', 'TX', 'FL', 'AL', 'AK', 'TX', 'TX']\n",
    "                   },\n",
    "                  index=['Jane', 'Nick', 'Aaron', 'Penelope', 'Dean',\n",
    "                         'Christina', 'Cornelia'])\n",
    " \n",
    "print(df)\n",
    " \n",
    "dict = {\"NY\": 1, \"TX\": 2, \"FL\": 3, \"AL\": 4, \"AK\": 5}\n",
    "df1 = df.replace({\"State\": dict})\n",
    " \n",
    "print(\"\\n\\n\")\n",
    "print(df1)"
   ]
  },
  {
   "cell_type": "markdown",
   "metadata": {},
   "source": [
    "# 六十一.统计基于某一列的一列的数值"
   ]
  },
  {
   "cell_type": "code",
   "execution_count": 66,
   "metadata": {},
   "outputs": [
    {
     "name": "stdout",
     "output_type": "stream",
     "text": [
      "          DateOfBirth State\n",
      "Jane       1986-11-11    NY\n",
      "Nick       1999-05-12    TX\n",
      "Aaron      1976-01-01    FL\n",
      "Penelope   1986-06-01    AL\n",
      "Dean       1983-06-04    AK\n",
      "Christina  1990-03-07    TX\n",
      "Cornelia   1999-07-09    TX \n",
      "\n",
      "State\n",
      "AK    1\n",
      "AL    1\n",
      "FL    1\n",
      "NY    1\n",
      "TX    3\n",
      "Name: DateOfBirth, dtype: int64\n"
     ]
    }
   ],
   "source": [
    "import pandas as pd\n",
    " \n",
    "df = pd.DataFrame({'DateOfBirth': ['1986-11-11', '1999-05-12', '1976-01-01',\n",
    "                                   '1986-06-01', '1983-06-04', '1990-03-07',\n",
    "                                   '1999-07-09'],                   \n",
    "                   'State': ['NY', 'TX', 'FL', 'AL', 'AK', 'TX', 'TX']\n",
    "                   },\n",
    "                  index=['Jane', 'Nick', 'Aaron', 'Penelope', 'Dean',\n",
    "                         'Christina', 'Cornelia'])\n",
    "\n",
    "print(df,'\\n')\n",
    "\n",
    "print(df.groupby('State').DateOfBirth.nunique())"
   ]
  },
  {
   "cell_type": "markdown",
   "metadata": {},
   "source": [
    "# 六十二.处理 DataFrame 中的缺失值"
   ]
  },
  {
   "cell_type": "code",
   "execution_count": 67,
   "metadata": {},
   "outputs": [
    {
     "name": "stdout",
     "output_type": "stream",
     "text": [
      "\n",
      "--------- DataFrame ---------\n",
      "\n",
      "         Apple  Orange  Banana  Pear\n",
      "Basket1     10    20.0    30.0  40.0\n",
      "Basket2      7    14.0    21.0  28.0\n",
      "Basket3      5     NaN     NaN   NaN\n",
      "\n",
      "--------- Use of isnull() ---------\n",
      "\n",
      "         Apple  Orange  Banana   Pear\n",
      "Basket1  False   False   False  False\n",
      "Basket2  False   False   False  False\n",
      "Basket3  False    True    True   True\n",
      "\n",
      "--------- Use of notnull() ---------\n",
      "\n",
      "         Apple  Orange  Banana   Pear\n",
      "Basket1   True    True    True   True\n",
      "Basket2   True    True    True   True\n",
      "Basket3   True   False   False  False\n"
     ]
    }
   ],
   "source": [
    "import pandas as pd\n",
    " \n",
    "df = pd.DataFrame([[10, 20, 30, 40], [7, 14, 21, 28], [5,]],\n",
    "                  columns=['Apple', 'Orange', 'Banana', 'Pear'],\n",
    "                  index=['Basket1', 'Basket2', 'Basket3'])\n",
    " \n",
    "print(\"\\n--------- DataFrame ---------\\n\")\n",
    "print(df)\n",
    " \n",
    "print(\"\\n--------- Use of isnull() ---------\\n\")\n",
    "print(df.isnull())\n",
    " \n",
    "print(\"\\n--------- Use of notnull() ---------\\n\")\n",
    "print(df.notnull())"
   ]
  },
  {
   "cell_type": "markdown",
   "metadata": {},
   "source": [
    "# 六十三.删除包含任何缺失数据的行"
   ]
  },
  {
   "cell_type": "code",
   "execution_count": 68,
   "metadata": {},
   "outputs": [
    {
     "name": "stdout",
     "output_type": "stream",
     "text": [
      "\n",
      "--------- DataFrame ---------\n",
      "\n",
      "         Apple  Orange  Banana  Pear\n",
      "Basket1     10    20.0    30.0  40.0\n",
      "Basket2      7    14.0    21.0  28.0\n",
      "Basket3      5     NaN     NaN   NaN\n",
      "\n",
      "--------- Use of dropna() ---------\n",
      "\n",
      "         Apple  Orange  Banana  Pear\n",
      "Basket1     10    20.0    30.0  40.0\n",
      "Basket2      7    14.0    21.0  28.0\n"
     ]
    }
   ],
   "source": [
    "import pandas as pd\n",
    " \n",
    "df = pd.DataFrame([[10, 20, 30, 40], [7, 14, 21, 28], [5,]],\n",
    "                  columns=['Apple', 'Orange', 'Banana', 'Pear'],\n",
    "                  index=['Basket1', 'Basket2', 'Basket3'])\n",
    " \n",
    "print(\"\\n--------- DataFrame ---------\\n\")\n",
    "print(df)\n",
    " \n",
    "print(\"\\n--------- Use of dropna() ---------\\n\")\n",
    "print(df.dropna())"
   ]
  },
  {
   "cell_type": "markdown",
   "metadata": {},
   "source": [
    "# 六十四.删除 DataFrame 中缺失数据的列"
   ]
  },
  {
   "cell_type": "code",
   "execution_count": 69,
   "metadata": {},
   "outputs": [
    {
     "name": "stdout",
     "output_type": "stream",
     "text": [
      "\n",
      "--------- DataFrame ---------\n",
      "\n",
      "         Apple  Orange  Banana  Pear\n",
      "Basket1     10    20.0    30.0  40.0\n",
      "Basket2      7    14.0    21.0  28.0\n",
      "Basket3      5     NaN     NaN   NaN\n",
      "\n",
      "--------- Drop Columns) ---------\n",
      "\n",
      "         Apple\n",
      "Basket1     10\n",
      "Basket2      7\n",
      "Basket3      5\n"
     ]
    }
   ],
   "source": [
    "import pandas as pd\n",
    "\n",
    "df = pd.DataFrame([[10, 20, 30, 40], [7, 14, 21, 28], [5,]],\n",
    "                  columns=['Apple', 'Orange', 'Banana', 'Pear'],\n",
    "                  index=['Basket1', 'Basket2', 'Basket3'])\n",
    "\n",
    "print(\"\\n--------- DataFrame ---------\\n\")\n",
    "print(df)\n",
    "\n",
    "print(\"\\n--------- Drop Columns) ---------\\n\")\n",
    "print(df.dropna(1))"
   ]
  },
  {
   "cell_type": "markdown",
   "metadata": {},
   "source": [
    "# 六十五.按降序对索引值进行排序"
   ]
  },
  {
   "cell_type": "code",
   "execution_count": 70,
   "metadata": {},
   "outputs": [
    {
     "name": "stdout",
     "output_type": "stream",
     "text": [
      "          DateOfBirth State\n",
      "Penelope   1986-06-01    AL\n",
      "Pane       1999-05-12    TX\n",
      "Jane       1986-11-11    NY\n",
      "Frane      1983-06-04    AK\n",
      "Cornelia   1999-07-09    TX\n",
      "Christina  1990-03-07    TX\n",
      "Aaron      1976-01-01    FL\n"
     ]
    }
   ],
   "source": [
    "import pandas as pd\n",
    " \n",
    "df = pd.DataFrame({'DateOfBirth': ['1986-11-11', '1999-05-12', '1976-01-01',\n",
    "                                   '1986-06-01', '1983-06-04', '1990-03-07',\n",
    "                                   '1999-07-09'],\n",
    "                   'State': ['NY', 'TX', 'FL', 'AL', 'AK', 'TX', 'TX']\n",
    "                   },\n",
    "                  index=['Jane', 'Pane', 'Aaron', 'Penelope', 'Frane',\n",
    "                         'Christina', 'Cornelia'])\n",
    " \n",
    "print(df.sort_index(ascending=False))"
   ]
  },
  {
   "cell_type": "markdown",
   "metadata": {},
   "source": [
    "# 六十六.按降序对列进行排序"
   ]
  },
  {
   "cell_type": "code",
   "execution_count": 71,
   "metadata": {},
   "outputs": [
    {
     "name": "stdout",
     "output_type": "stream",
     "text": [
      "     Occupation     Name EmpCode Date Of Join  Age\n",
      "0       Chemist     John  Emp001   2018-01-25   23\n",
      "1  Statistician      Doe  Emp002   2018-01-26   24\n",
      "2  Statistician  William  Emp003   2018-01-26   34\n",
      "3  Statistician    Spark  Emp004   2018-02-26   29\n",
      "4    Programmer     Mark  Emp005   2018-03-16   40\n"
     ]
    }
   ],
   "source": [
    "import pandas as pd\n",
    " \n",
    "employees = pd.DataFrame({\n",
    "    'EmpCode': ['Emp001', 'Emp002', 'Emp003', 'Emp004', 'Emp005'],\n",
    "    'Name': ['John', 'Doe', 'William', 'Spark', 'Mark'],\n",
    "    'Occupation': ['Chemist', 'Statistician', 'Statistician',\n",
    "                   'Statistician', 'Programmer'],\n",
    "    'Date Of Join': ['2018-01-25', '2018-01-26', '2018-01-26', '2018-02-26',\n",
    "                     '2018-03-16'],\n",
    "    'Age': [23, 24, 34, 29, 40]})\n",
    " \n",
    " \n",
    "print(employees.sort_index(axis=1, ascending=False))"
   ]
  },
  {
   "cell_type": "markdown",
   "metadata": {},
   "source": [
    "# 六十七.使用 rank 方法查找 DataFrame 中元素的排名"
   ]
  },
  {
   "cell_type": "code",
   "execution_count": 72,
   "metadata": {},
   "outputs": [
    {
     "name": "stdout",
     "output_type": "stream",
     "text": [
      "\n",
      "--------- DataFrame Values--------\n",
      "\n",
      "         Apple  Orange  Banana  Pear\n",
      "Basket1     10      20      30    40\n",
      "Basket2      7      14      21    28\n",
      "Basket3      5       5       0     0\n",
      "\n",
      "--------- DataFrame Values by Rank--------\n",
      "\n",
      "         Apple  Orange  Banana  Pear\n",
      "Basket1    3.0     3.0     3.0   3.0\n",
      "Basket2    2.0     2.0     2.0   2.0\n",
      "Basket3    1.0     1.0     1.0   1.0\n"
     ]
    }
   ],
   "source": [
    "import pandas as pd\n",
    "\n",
    "df = pd.DataFrame([[10, 20, 30, 40], [7, 14, 21, 28], [5, 5, 0, 0]],\n",
    "                  columns=['Apple', 'Orange', 'Banana', 'Pear'],\n",
    "                  index=['Basket1', 'Basket2', 'Basket3'])\n",
    "\n",
    "print(\"\\n--------- DataFrame Values--------\\n\")\n",
    "print(df)\n",
    "\n",
    "print(\"\\n--------- DataFrame Values by Rank--------\\n\")\n",
    "print(df.rank())"
   ]
  },
  {
   "cell_type": "markdown",
   "metadata": {},
   "source": [
    "# 六十八.在多列上设置索引"
   ]
  },
  {
   "cell_type": "code",
   "execution_count": 73,
   "metadata": {},
   "outputs": [
    {
     "name": "stdout",
     "output_type": "stream",
     "text": [
      "\n",
      " --------- Before Index ----------- \n",
      "\n",
      "  EmpCode     Name    Occupation Date Of Join  Age\n",
      "0  Emp001     John       Chemist   2018-01-25   23\n",
      "1  Emp002      Doe  Statistician   2018-01-26   24\n",
      "2  Emp003  William  Statistician   2018-01-26   34\n",
      "3  Emp004    Spark  Statistician   2018-02-26   29\n",
      "4  Emp005     Mark    Programmer   2018-03-16   40\n",
      "\n",
      " --------- Multiple Indexing ----------- \n",
      "\n",
      "                 EmpCode     Name Date Of Join\n",
      "Occupation   Age                              \n",
      "Chemist      23   Emp001     John   2018-01-25\n",
      "Statistician 24   Emp002      Doe   2018-01-26\n",
      "             34   Emp003  William   2018-01-26\n",
      "             29   Emp004    Spark   2018-02-26\n",
      "Programmer   40   Emp005     Mark   2018-03-16\n"
     ]
    }
   ],
   "source": [
    "import pandas as pd\n",
    " \n",
    "employees = pd.DataFrame({\n",
    "    'EmpCode': ['Emp001', 'Emp002', 'Emp003', 'Emp004', 'Emp005'],\n",
    "    'Name': ['John', 'Doe', 'William', 'Spark', 'Mark'],\n",
    "    'Occupation': ['Chemist', 'Statistician', 'Statistician',\n",
    "                   'Statistician', 'Programmer'],\n",
    "    'Date Of Join': ['2018-01-25', '2018-01-26', '2018-01-26', '2018-02-26',\n",
    "                     '2018-03-16'],\n",
    "    'Age': [23, 24, 34, 29, 40]})\n",
    " \n",
    "print(\"\\n --------- Before Index ----------- \\n\")\n",
    "print(employees)\n",
    " \n",
    "print(\"\\n --------- Multiple Indexing ----------- \\n\")\n",
    "print(employees.set_index(['Occupation', 'Age']))"
   ]
  },
  {
   "cell_type": "markdown",
   "metadata": {},
   "source": [
    "# 六十九.确定 DataFrame 的周期索引和列"
   ]
  },
  {
   "cell_type": "code",
   "execution_count": 74,
   "metadata": {},
   "outputs": [
    {
     "name": "stdout",
     "output_type": "stream",
     "text": [
      "              Country\n",
      "2015-01-01      India\n",
      "2015-01-02     Canada\n",
      "2015-01-03  Australia\n",
      "2015-01-04      Japan\n",
      "2015-01-05    Germany\n",
      "2015-01-06     France\n"
     ]
    }
   ],
   "source": [
    "import pandas as pd\n",
    " \n",
    "values = [\"India\", \"Canada\", \"Australia\",\n",
    "          \"Japan\", \"Germany\", \"France\"]\n",
    " \n",
    "pidx = pd.period_range('2015-01-01', periods=6)\n",
    " \n",
    "df = pd.DataFrame(values, index=pidx, columns=['Country'])\n",
    " \n",
    "print(df)"
   ]
  },
  {
   "cell_type": "markdown",
   "metadata": {},
   "source": [
    "# 七十.将 DataFrame 写入 csv"
   ]
  },
  {
   "cell_type": "code",
   "execution_count": 75,
   "metadata": {},
   "outputs": [],
   "source": [
    "import pandas as pd\n",
    " \n",
    "df = pd.DataFrame({'DateOfBirth': ['1986-11-11', '1999-05-12', '1976-01-01',\n",
    "                                   '1986-06-01', '1983-06-04', '1990-03-07',\n",
    "                                   '1999-07-09'],\n",
    "                   'State': ['NY', 'TX', 'FL', 'AL', 'AK', 'TX', 'TX']\n",
    "                   },\n",
    "                  index=['Jane', 'Pane', 'Aaron', 'Penelope', 'Frane',\n",
    "                         'Christina', 'Cornelia'])\n",
    " \n",
    "df.to_csv('test.csv', encoding='utf-8', index=True)"
   ]
  },
  {
   "cell_type": "markdown",
   "metadata": {},
   "source": [
    "# 七十一.导入 CSV 指定特定索引"
   ]
  },
  {
   "cell_type": "code",
   "execution_count": 76,
   "metadata": {},
   "outputs": [
    {
     "name": "stdout",
     "output_type": "stream",
     "text": [
      "            Unnamed: 0 State\n",
      "DateOfBirth                 \n",
      "1986-11-11        Jane    NY\n",
      "1999-05-12        Pane    TX\n",
      "1976-01-01       Aaron    FL\n",
      "1986-06-01    Penelope    AL\n",
      "1983-06-04       Frane    AK\n",
      "1990-03-07   Christina    TX\n",
      "1999-07-09    Cornelia    TX\n"
     ]
    }
   ],
   "source": [
    "import pandas as pd\n",
    " \n",
    "df = pd.read_csv('test.csv', index_col=\"DateOfBirth\")\n",
    "print(df)"
   ]
  },
  {
   "cell_type": "markdown",
   "metadata": {},
   "source": [
    "# 七十二.使用 Pandas 读取 csv 文件的特定列"
   ]
  },
  {
   "cell_type": "code",
   "execution_count": 77,
   "metadata": {},
   "outputs": [
    {
     "name": "stdout",
     "output_type": "stream",
     "text": [
      "  DateOfBirth State\n",
      "0  1986-11-11    NY\n",
      "1  1999-05-12    TX\n",
      "2  1976-01-01    FL\n",
      "3  1986-06-01    AL\n",
      "4  1983-06-04    AK\n",
      "5  1990-03-07    TX\n",
      "6  1999-07-09    TX\n"
     ]
    }
   ],
   "source": [
    "import pandas as pd\n",
    " \n",
    "df = pd.read_csv(\"test.csv\", usecols = ['DateOfBirth','State'])\n",
    "print(df)"
   ]
  },
  {
   "cell_type": "markdown",
   "metadata": {},
   "source": [
    "# 七十三.Pandas 获取 CSV 列的列表"
   ]
  },
  {
   "cell_type": "code",
   "execution_count": 78,
   "metadata": {},
   "outputs": [
    {
     "name": "stdout",
     "output_type": "stream",
     "text": [
      "['Unnamed: 0', 'DateOfBirth', 'State']\n"
     ]
    }
   ],
   "source": [
    "import pandas as pd\n",
    "\n",
    "cols = list(pd.read_csv(\"test.csv\", nrows =1))\n",
    "print(cols)"
   ]
  },
  {
   "cell_type": "markdown",
   "metadata": {},
   "source": [
    "# 七十四.找到列值最大的行"
   ]
  },
  {
   "cell_type": "code",
   "execution_count": 79,
   "metadata": {},
   "outputs": [
    {
     "name": "stdout",
     "output_type": "stream",
     "text": [
      "         Apple  Orange  Banana  Pear\n",
      "Basket1     10      20      30    40\n",
      "Basket2      7      14      21    28\n",
      "Basket3     55      15       8    12 \n",
      "\n",
      "Apple     55\n",
      "Orange    15\n",
      "Banana     8\n",
      "Pear      12\n",
      "Name: Basket3, dtype: int64\n"
     ]
    }
   ],
   "source": [
    "import pandas as pd\n",
    " \n",
    "df = pd.DataFrame([[10, 20, 30, 40], [7, 14, 21, 28], [55, 15, 8, 12]],\n",
    "                  columns=['Apple', 'Orange', 'Banana', 'Pear'],\n",
    "                  index=['Basket1', 'Basket2', 'Basket3'])\n",
    "\n",
    "print(df,'\\n')\n",
    " \n",
    "print(df.loc[df['Apple'].idxmax()])"
   ]
  },
  {
   "cell_type": "markdown",
   "metadata": {},
   "source": [
    "# 七十五.使用查询方法进行复杂条件选择"
   ]
  },
  {
   "cell_type": "code",
   "execution_count": 80,
   "metadata": {},
   "outputs": [
    {
     "name": "stdout",
     "output_type": "stream",
     "text": [
      "         Apple  Orange  Banana  Pear\n",
      "Basket1     10      20      30    40\n",
      "Basket2      7      14      21    28\n",
      "Basket3     55      15       8    12\n",
      "Apple     int64\n",
      "Orange    int64\n",
      "Banana    int64\n",
      "Pear      int64\n",
      "dtype: object\n",
      "\n",
      " ----------- Filter data using query method ------------- \n",
      "\n",
      "         Apple  Orange  Banana  Pear\n",
      "Basket3     55      15       8    12\n"
     ]
    }
   ],
   "source": [
    "import pandas as pd\n",
    " \n",
    "df = pd.DataFrame([[10, 20, 30, 40], [7, 14, 21, 28], [55, 15, 8, 12]],\n",
    "                  columns=['Apple', 'Orange', 'Banana', 'Pear'],\n",
    "                  index=['Basket1', 'Basket2', 'Basket3'])\n",
    "print(df)\n",
    "print(df.dtypes)\n",
    " \n",
    "print(\"\\n ----------- Filter data using query method ------------- \\n\")\n",
    "df1 = df.loc[df.query('Apple > 50 & Orange <= 15 & Banana < 15 & Pear == 12').index]\n",
    "print(df1)"
   ]
  },
  {
   "cell_type": "markdown",
   "metadata": {},
   "source": [
    "# 七十六.检查 Pandas 中是否存在列"
   ]
  },
  {
   "cell_type": "code",
   "execution_count": 81,
   "metadata": {},
   "outputs": [
    {
     "name": "stdout",
     "output_type": "stream",
     "text": [
      "Yes\n",
      "Yes\n"
     ]
    }
   ],
   "source": [
    "import pandas as pd\n",
    "\n",
    "df = pd.DataFrame([[10, 20, 30, 40], [7, 14, 21, 28], [55, 15, 8, 12]],\n",
    "                  columns=['Apple', 'Orange', 'Banana', 'Pear'],\n",
    "                  index=['Basket1', 'Basket2', 'Basket3'])\n",
    "\n",
    "if 'Apple' in df.columns:\n",
    "    print(\"Yes\")\n",
    "else:\n",
    "    print(\"No\")\n",
    "\n",
    "\n",
    "if set(['Apple','Banana']).issubset(df.columns):\n",
    "    print(\"Yes\")\n",
    "else:\n",
    "    print(\"No\")"
   ]
  },
  {
   "cell_type": "markdown",
   "metadata": {},
   "source": [
    "# 七十七.为特定列从 DataFrame 中查找 n-smallest 和 n-largest 值"
   ]
  },
  {
   "cell_type": "code",
   "execution_count": 82,
   "metadata": {},
   "outputs": [
    {
     "name": "stdout",
     "output_type": "stream",
     "text": [
      "\n",
      "----------- nomal -----------\n",
      "\n",
      "         Apple  Orange  Banana  Pear\n",
      "Basket1     10      20      30    40\n",
      "Basket2      7      14      21    28\n",
      "Basket3     55      15       8    12\n",
      "Basket4     15      14       1     8\n",
      "Basket5      7       1       1     8\n",
      "Basket6      5       4       9     2\n",
      "\n",
      "----------- nsmallest -----------\n",
      "\n",
      "         Apple  Orange  Banana  Pear\n",
      "Basket6      5       4       9     2\n",
      "Basket2      7      14      21    28\n",
      "\n",
      "----------- nlargest -----------\n",
      "\n",
      "         Apple  Orange  Banana  Pear\n",
      "Basket3     55      15       8    12\n",
      "Basket4     15      14       1     8\n"
     ]
    }
   ],
   "source": [
    "import pandas as pd\n",
    " \n",
    "df = pd.DataFrame([[10, 20, 30, 40], [7, 14, 21, 28], [55, 15, 8, 12],\n",
    "                   [15, 14, 1, 8], [7, 1, 1, 8], [5, 4, 9, 2]],\n",
    "                  columns=['Apple', 'Orange', 'Banana', 'Pear'],\n",
    "                  index=['Basket1', 'Basket2', 'Basket3', 'Basket4',\n",
    "                         'Basket5', 'Basket6'])\n",
    "\n",
    "print(\"\\n----------- nomal -----------\\n\")\n",
    "print(df)\n",
    " \n",
    "print(\"\\n----------- nsmallest -----------\\n\")\n",
    "print(df.nsmallest(2, ['Apple']))\n",
    " \n",
    "print(\"\\n----------- nlargest -----------\\n\")\n",
    "print(df.nlargest(2, ['Apple']))"
   ]
  },
  {
   "cell_type": "markdown",
   "metadata": {},
   "source": [
    "# 七十八.从 DataFrame 中查找所有列的最小值和最大值"
   ]
  },
  {
   "cell_type": "code",
   "execution_count": 83,
   "metadata": {},
   "outputs": [
    {
     "name": "stdout",
     "output_type": "stream",
     "text": [
      "\n",
      "----------- nomal -----------\n",
      "\n",
      "         Apple  Orange  Banana  Pear\n",
      "Basket1     10      20      30    40\n",
      "Basket2      7      14      21    28\n",
      "Basket3     55      15       8    12\n",
      "Basket4     15      14       1     8\n",
      "Basket5      7       1       1     8\n",
      "Basket6      5       4       9     2\n",
      "\n",
      "----------- Minimum -----------\n",
      "\n",
      "Apple     5\n",
      "Orange    1\n",
      "Banana    1\n",
      "Pear      2\n",
      "dtype: int64\n",
      "\n",
      "----------- Maximum -----------\n",
      "\n",
      "Apple     55\n",
      "Orange    20\n",
      "Banana    30\n",
      "Pear      40\n",
      "dtype: int64\n"
     ]
    }
   ],
   "source": [
    "import pandas as pd\n",
    " \n",
    "df = pd.DataFrame([[10, 20, 30, 40], [7, 14, 21, 28], [55, 15, 8, 12],\n",
    "                   [15, 14, 1, 8], [7, 1, 1, 8], [5, 4, 9, 2]],\n",
    "                  columns=['Apple', 'Orange', 'Banana', 'Pear'],\n",
    "                  index=['Basket1', 'Basket2', 'Basket3', 'Basket4',\n",
    "                         'Basket5', 'Basket6'])\n",
    "\n",
    "print(\"\\n----------- nomal -----------\\n\")\n",
    "print(df)\n",
    " \n",
    "print(\"\\n----------- Minimum -----------\\n\")\n",
    "print(df[['Apple', 'Orange', 'Banana', 'Pear']].min())\n",
    " \n",
    "print(\"\\n----------- Maximum -----------\\n\")\n",
    "print(df[['Apple', 'Orange', 'Banana', 'Pear']].max())"
   ]
  },
  {
   "cell_type": "markdown",
   "metadata": {},
   "source": [
    "# 七十九.在 DataFrame 中找到最小值和最大值所在的索引位置"
   ]
  },
  {
   "cell_type": "code",
   "execution_count": 84,
   "metadata": {},
   "outputs": [
    {
     "name": "stdout",
     "output_type": "stream",
     "text": [
      "\n",
      "----------- Minimum -----------\n",
      "\n",
      "Apple     Basket6\n",
      "Orange    Basket5\n",
      "Banana    Basket4\n",
      "Pear      Basket6\n",
      "dtype: object\n",
      "\n",
      "----------- Maximum -----------\n",
      "\n",
      "Apple     Basket3\n",
      "Orange    Basket1\n",
      "Banana    Basket1\n",
      "Pear      Basket1\n",
      "dtype: object\n"
     ]
    }
   ],
   "source": [
    "import pandas as pd\n",
    " \n",
    "df = pd.DataFrame([[10, 20, 30, 40], [7, 14, 21, 28], [55, 15, 8, 12],\n",
    "                   [15, 14, 1, 8], [7, 1, 1, 8], [5, 4, 9, 2]],\n",
    "                  columns=['Apple', 'Orange', 'Banana', 'Pear'],\n",
    "                  index=['Basket1', 'Basket2', 'Basket3', 'Basket4',\n",
    "                         'Basket5', 'Basket6'])\n",
    " \n",
    "print(\"\\n----------- Minimum -----------\\n\")\n",
    "print(df[['Apple', 'Orange', 'Banana', 'Pear']].idxmin())\n",
    " \n",
    "print(\"\\n----------- Maximum -----------\\n\")\n",
    "print(df[['Apple', 'Orange', 'Banana', 'Pear']].idxmax())"
   ]
  },
  {
   "cell_type": "markdown",
   "metadata": {},
   "source": [
    "# 八十.计算 DataFrame Columns 的累积乘积和累积总和"
   ]
  },
  {
   "cell_type": "code",
   "execution_count": 85,
   "metadata": {},
   "outputs": [
    {
     "name": "stdout",
     "output_type": "stream",
     "text": [
      "\n",
      "----------- Product -----------\n",
      "\n",
      "         Apple  Orange  Banana  Pear\n",
      "Basket1     10      20      30    40\n",
      "Basket2      7      14      21    28\n",
      "Basket3     55      15       8    12\n",
      "Basket4     15      14       1     8\n",
      "Basket5      7       1       1     8\n",
      "Basket6      5       4       9     2\n",
      "\n",
      "----------- Cumulative Product -----------\n",
      "\n",
      "           Apple  Orange  Banana     Pear\n",
      "Basket1       10      20      30       40\n",
      "Basket2       70     280     630     1120\n",
      "Basket3     3850    4200    5040    13440\n",
      "Basket4    57750   58800    5040   107520\n",
      "Basket5   404250   58800    5040   860160\n",
      "Basket6  2021250  235200   45360  1720320\n",
      "\n",
      "----------- Cumulative Sum -----------\n",
      "\n",
      "         Apple  Orange  Banana  Pear\n",
      "Basket1     10      20      30    40\n",
      "Basket2     17      34      51    68\n",
      "Basket3     72      49      59    80\n",
      "Basket4     87      63      60    88\n",
      "Basket5     94      64      61    96\n",
      "Basket6     99      68      70    98\n"
     ]
    }
   ],
   "source": [
    "import pandas as pd\n",
    "\n",
    "df = pd.DataFrame([[10, 20, 30, 40], [7, 14, 21, 28], [55, 15, 8, 12],\n",
    "                   [15, 14, 1, 8], [7, 1, 1, 8], [5, 4, 9, 2]],\n",
    "                  columns=['Apple', 'Orange', 'Banana', 'Pear'],\n",
    "                  index=['Basket1', 'Basket2', 'Basket3', 'Basket4',\n",
    "                         'Basket5', 'Basket6'])\n",
    "\n",
    "print(\"\\n----------- Product -----------\\n\")\n",
    "print(df)\n",
    "\n",
    "print(\"\\n----------- Cumulative Product -----------\\n\")\n",
    "print(df[['Apple', 'Orange', 'Banana', 'Pear']].cumprod())\n",
    "\n",
    "print(\"\\n----------- Cumulative Sum -----------\\n\")\n",
    "print(df[['Apple', 'Orange', 'Banana', 'Pear']].cumsum())"
   ]
  },
  {
   "cell_type": "markdown",
   "metadata": {},
   "source": [
    "# 八十一.汇总统计"
   ]
  },
  {
   "cell_type": "code",
   "execution_count": 86,
   "metadata": {},
   "outputs": [
    {
     "name": "stdout",
     "output_type": "stream",
     "text": [
      "\n",
      "----------- Describe DataFrame -----------\n",
      "\n",
      "           Apple     Orange     Banana       Pear\n",
      "count   6.000000   6.000000   6.000000   6.000000\n",
      "mean   16.500000  11.333333  11.666667  16.333333\n",
      "std    19.180719   7.257180  11.587349  14.555640\n",
      "min     5.000000   1.000000   1.000000   2.000000\n",
      "25%     7.000000   6.500000   2.750000   8.000000\n",
      "50%     8.500000  14.000000   8.500000  10.000000\n",
      "75%    13.750000  14.750000  18.000000  24.000000\n",
      "max    55.000000  20.000000  30.000000  40.000000\n",
      "\n",
      "----------- Describe Column -----------\n",
      "\n",
      "           Apple\n",
      "count   6.000000\n",
      "mean   16.500000\n",
      "std    19.180719\n",
      "min     5.000000\n",
      "25%     7.000000\n",
      "50%     8.500000\n",
      "75%    13.750000\n",
      "max    55.000000\n"
     ]
    }
   ],
   "source": [
    "import pandas as pd\n",
    " \n",
    "df = pd.DataFrame([[10, 20, 30, 40], [7, 14, 21, 28], [55, 15, 8, 12],\n",
    "                   [15, 14, 1, 8], [7, 1, 1, 8], [5, 4, 9, 2]],\n",
    "                  columns=['Apple', 'Orange', 'Banana', 'Pear'],\n",
    "                  index=['Basket1', 'Basket2', 'Basket3', 'Basket4',\n",
    "                         'Basket5', 'Basket6'])\n",
    " \n",
    "print(\"\\n----------- Describe DataFrame -----------\\n\")\n",
    "print(df.describe())\n",
    " \n",
    "print(\"\\n----------- Describe Column -----------\\n\")\n",
    "print(df[['Apple']].describe())"
   ]
  },
  {
   "cell_type": "markdown",
   "metadata": {},
   "source": [
    "# 八十二.查找 DataFrame 的均值、中值和众数"
   ]
  },
  {
   "cell_type": "code",
   "execution_count": 87,
   "metadata": {},
   "outputs": [
    {
     "name": "stdout",
     "output_type": "stream",
     "text": [
      "\n",
      "----------------------\n",
      "\n",
      "         Apple  Orange  Banana  Pear\n",
      "Basket1     10      20      30    40\n",
      "Basket2      7      14      21    28\n",
      "Basket3     55      15       8    12\n",
      "Basket4     15      14       1     8\n",
      "Basket5      7       1       1     8\n",
      "Basket6      5       4       9     2\n",
      "\n",
      "----------- Calculate Mean -----------\n",
      "\n",
      "Apple     16.500000\n",
      "Orange    11.333333\n",
      "Banana    11.666667\n",
      "Pear      16.333333\n",
      "dtype: float64\n",
      "\n",
      "----------- Calculate Median -----------\n",
      "\n",
      "Apple      8.5\n",
      "Orange    14.0\n",
      "Banana     8.5\n",
      "Pear      10.0\n",
      "dtype: float64\n",
      "\n",
      "----------- Calculate Mode -----------\n",
      "\n",
      "   Apple  Orange  Banana  Pear\n",
      "0      7      14       1     8\n"
     ]
    }
   ],
   "source": [
    "import pandas as pd\n",
    "\n",
    "df = pd.DataFrame([[10, 20, 30, 40], [7, 14, 21, 28], [55, 15, 8, 12],\n",
    "                   [15, 14, 1, 8], [7, 1, 1, 8], [5, 4, 9, 2]],\n",
    "                  columns=['Apple', 'Orange', 'Banana', 'Pear'],\n",
    "                  index=['Basket1', 'Basket2', 'Basket3', 'Basket4',\n",
    "                         'Basket5', 'Basket6'])\n",
    "\n",
    "print(\"\\n----------------------\\n\")\n",
    "print(df)\n",
    "\n",
    "print(\"\\n----------- Calculate Mean -----------\\n\")\n",
    "print(df.mean())\n",
    "\n",
    "print(\"\\n----------- Calculate Median -----------\\n\")\n",
    "print(df.median())\n",
    "\n",
    "print(\"\\n----------- Calculate Mode -----------\\n\")\n",
    "print(df.mode())"
   ]
  },
  {
   "cell_type": "markdown",
   "metadata": {},
   "source": [
    "# 八十三.测量 DataFrame 列的方差和标准偏差"
   ]
  },
  {
   "cell_type": "code",
   "execution_count": 88,
   "metadata": {},
   "outputs": [
    {
     "name": "stdout",
     "output_type": "stream",
     "text": [
      "\n",
      "----------- Calculate 方差 -----------\n",
      "\n",
      "Apple     367.900000\n",
      "Orange     52.666667\n",
      "Banana    134.266667\n",
      "Pear      211.866667\n",
      "dtype: float64\n",
      "\n",
      "----------- Calculate 标准差 -----------\n",
      "\n",
      "Apple     19.180719\n",
      "Orange     7.257180\n",
      "Banana    11.587349\n",
      "Pear      14.555640\n",
      "dtype: float64\n"
     ]
    }
   ],
   "source": [
    "import pandas as pd\n",
    " \n",
    "df = pd.DataFrame([[10, 20, 30, 40], [7, 14, 21, 28], [55, 15, 8, 12],\n",
    "                   [15, 14, 1, 8], [7, 1, 1, 8], [5, 4, 9, 2]],\n",
    "                  columns=['Apple', 'Orange', 'Banana', 'Pear'],\n",
    "                  index=['Basket1', 'Basket2', 'Basket3', 'Basket4',\n",
    "                         'Basket5', 'Basket6'])\n",
    " \n",
    "print(\"\\n----------- Calculate 方差 -----------\\n\")\n",
    "print(df.var())\n",
    " \n",
    "print(\"\\n----------- Calculate 标准差 -----------\\n\")\n",
    "print(df.std())"
   ]
  },
  {
   "cell_type": "markdown",
   "metadata": {},
   "source": [
    "# 八十四.计算 DataFrame 列之间的协方差"
   ]
  },
  {
   "cell_type": "code",
   "execution_count": 89,
   "metadata": {},
   "outputs": [
    {
     "name": "stdout",
     "output_type": "stream",
     "text": [
      "\n",
      "----------- Calculating Covariance -----------\n",
      "\n",
      "        Apple     Orange      Banana        Pear\n",
      "Apple   367.9  47.600000  -40.200000  -35.000000\n",
      "Orange   47.6  52.666667   54.333333   77.866667\n",
      "Banana  -40.2  54.333333  134.266667  154.933333\n",
      "Pear    -35.0  77.866667  154.933333  211.866667\n",
      "\n",
      "----------- Between 2 columns -----------\n",
      "\n",
      "47.6\n"
     ]
    }
   ],
   "source": [
    "import pandas as pd\n",
    "\n",
    "df = pd.DataFrame([[10, 20, 30, 40], [7, 14, 21, 28], [55, 15, 8, 12],\n",
    "                   [15, 14, 1, 8], [7, 1, 1, 8], [5, 4, 9, 2]],\n",
    "                  columns=['Apple', 'Orange', 'Banana', 'Pear'],\n",
    "                  index=['Basket1', 'Basket2', 'Basket3', 'Basket4',\n",
    "                         'Basket5', 'Basket6'])\n",
    "\n",
    "print(\"\\n----------- Calculating Covariance -----------\\n\")\n",
    "print(df.cov())\n",
    "\n",
    "print(\"\\n----------- Between 2 columns -----------\\n\")\n",
    "# Covariance of Apple vs Orange\n",
    "print(df.Apple.cov(df.Orange))"
   ]
  },
  {
   "cell_type": "markdown",
   "metadata": {},
   "source": [
    "# 八十五.计算 Pandas 中两个 DataFrame 对象之间的相关性"
   ]
  },
  {
   "cell_type": "code",
   "execution_count": 90,
   "metadata": {},
   "outputs": [
    {
     "name": "stdout",
     "output_type": "stream",
     "text": [
      "\n",
      "----- df1 -------\n",
      "\n",
      "         Apple  Orange  Banana  Pear\n",
      "Basket1     10      20      30    40\n",
      "Basket2      7      14      21    28\n",
      "Basket3     55      15       8    12\n",
      "Basket4     15      14       1     8\n",
      "Basket5      7       1       1     8\n",
      "Basket6      5       4       9     2\n",
      "\n",
      "------ Calculating Correlation of one DataFrame Columns -----\n",
      "\n",
      "           Apple    Orange    Banana      Pear\n",
      "Apple   1.000000  0.341959 -0.180874 -0.125364\n",
      "Orange  0.341959  1.000000  0.646122  0.737144\n",
      "Banana -0.180874  0.646122  1.000000  0.918606\n",
      "Pear   -0.125364  0.737144  0.918606  1.000000\n",
      "\n",
      "----- df1 -------\n",
      "\n",
      "         Apple  Orange  Banana  Pear\n",
      "Basket1     52      54      58    41\n",
      "Basket2     14      24      51    78\n",
      "Basket3     55      15       8    12\n",
      "Basket4     15      14       1     8\n",
      "Basket5      7      17      18    98\n",
      "Basket6     15      34      29    52\n",
      "\n",
      "----- Calculating correlation between two DataFrame -------\n",
      "\n",
      "Apple     0.678775\n",
      "Orange    0.354993\n",
      "Banana    0.920872\n",
      "Pear      0.076919\n",
      "dtype: float64\n"
     ]
    }
   ],
   "source": [
    "import pandas as pd\n",
    "\n",
    "df1 = pd.DataFrame([[10, 20, 30, 40], [7, 14, 21, 28], [55, 15, 8, 12],\n",
    "                   [15, 14, 1, 8], [7, 1, 1, 8], [5, 4, 9, 2]],\n",
    "                  columns=['Apple', 'Orange', 'Banana', 'Pear'],\n",
    "                  index=['Basket1', 'Basket2', 'Basket3', 'Basket4',\n",
    "                         'Basket5', 'Basket6'])\n",
    "\n",
    "print(\"\\n----- df1 -------\\n\")\n",
    "print(df1)\n",
    "\n",
    "print(\"\\n------ Calculating Correlation of one DataFrame Columns -----\\n\")\n",
    "print(df1.corr())\n",
    "\n",
    "df2 = pd.DataFrame([[52, 54, 58, 41], [14, 24, 51, 78], [55, 15, 8, 12],\n",
    "                   [15, 14, 1, 8], [7, 17, 18, 98], [15, 34, 29, 52]],\n",
    "                  columns=['Apple', 'Orange', 'Banana', 'Pear'],\n",
    "                  index=['Basket1', 'Basket2', 'Basket3', 'Basket4',\n",
    "                         'Basket5', 'Basket6'])\n",
    "\n",
    "print(\"\\n----- df1 -------\\n\")\n",
    "print(df2)\n",
    "\n",
    "print(\"\\n----- Calculating correlation between two DataFrame -------\\n\")\n",
    "print(df2.corrwith(other=df1))"
   ]
  },
  {
   "cell_type": "markdown",
   "metadata": {},
   "source": [
    "# 八十六.计算 DataFrame 列的每个单元格的百分比变化"
   ]
  },
  {
   "cell_type": "code",
   "execution_count": 91,
   "metadata": {},
   "outputs": [
    {
     "name": "stdout",
     "output_type": "stream",
     "text": [
      "         Apple  Orange  Banana  Pear\n",
      "Basket1     10      20      30    40\n",
      "Basket2      7      14      21    28\n",
      "Basket3     55      15       8    12\n",
      "Basket4     15      14       1     8\n",
      "Basket5      7       1       1     8\n",
      "Basket6      5       4       9     2 \n",
      "\n",
      "\n",
      "------ Percent change at each cell of a Column -----\n",
      "\n",
      "            Apple\n",
      "Basket1       NaN\n",
      "Basket2 -0.300000\n",
      "Basket3  6.857143\n",
      "\n",
      "------ Percent change at each cell of a DataFrame -----\n",
      "\n",
      "            Apple    Orange    Banana      Pear\n",
      "Basket1       NaN       NaN       NaN       NaN\n",
      "Basket2 -0.300000 -0.300000 -0.300000 -0.300000\n",
      "Basket3  6.857143  0.071429 -0.619048 -0.571429\n",
      "Basket4 -0.727273 -0.066667 -0.875000 -0.333333\n",
      "Basket5 -0.533333 -0.928571  0.000000  0.000000\n"
     ]
    }
   ],
   "source": [
    "import pandas as pd\n",
    " \n",
    "df = pd.DataFrame([[10, 20, 30, 40], [7, 14, 21, 28], [55, 15, 8, 12],\n",
    "                   [15, 14, 1, 8], [7, 1, 1, 8], [5, 4, 9, 2]],\n",
    "                  columns=['Apple', 'Orange', 'Banana', 'Pear'],\n",
    "                  index=['Basket1', 'Basket2', 'Basket3', 'Basket4',\n",
    "                         'Basket5', 'Basket6'])\n",
    "\n",
    "print(df,'\\n')\n",
    " \n",
    "print(\"\\n------ Percent change at each cell of a Column -----\\n\")\n",
    "print(df[['Apple']].pct_change()[:3])\n",
    " \n",
    "print(\"\\n------ Percent change at each cell of a DataFrame -----\\n\")\n",
    "print(df.pct_change()[:5])"
   ]
  },
  {
   "cell_type": "markdown",
   "metadata": {},
   "source": [
    "# 八十七.在 Pandas 中向前和向后填充 DataFrame 列的缺失值"
   ]
  },
  {
   "cell_type": "code",
   "execution_count": 92,
   "metadata": {},
   "outputs": [
    {
     "name": "stdout",
     "output_type": "stream",
     "text": [
      "\n",
      "------ DataFrame with NaN -----\n",
      "\n",
      "         Apple  Orange  Banana  Pear\n",
      "Basket1   10.0    30.0    40.0   NaN\n",
      "Basket2    NaN     NaN     NaN   NaN\n",
      "Basket3   15.0     8.0    12.0   NaN\n",
      "Basket4   15.0    14.0     1.0   8.0\n",
      "Basket5    7.0     8.0     NaN   NaN\n",
      "Basket6    5.0     4.0     1.0   NaN\n",
      "\n",
      "------ DataFrame with Forward Filling -----\n",
      "\n",
      "         Apple  Orange  Banana  Pear\n",
      "Basket1   10.0    30.0    40.0   NaN\n",
      "Basket2   10.0    30.0    40.0   NaN\n",
      "Basket3   15.0     8.0    12.0   NaN\n",
      "Basket4   15.0    14.0     1.0   8.0\n",
      "Basket5    7.0     8.0     1.0   8.0\n",
      "Basket6    5.0     4.0     1.0   8.0\n",
      "\n",
      "------ DataFrame with Forward Filling -----\n",
      "\n",
      "         Apple  Orange  Banana  Pear\n",
      "Basket1   10.0    30.0    40.0   8.0\n",
      "Basket2   15.0     8.0    12.0   8.0\n",
      "Basket3   15.0     8.0    12.0   8.0\n",
      "Basket4   15.0    14.0     1.0   8.0\n",
      "Basket5    7.0     8.0     1.0   NaN\n",
      "Basket6    5.0     4.0     1.0   NaN\n"
     ]
    }
   ],
   "source": [
    "import pandas as pd\n",
    " \n",
    "df = pd.DataFrame([[10, 30, 40], [], [15, 8, 12],\n",
    "                   [15, 14, 1, 8], [7, 8], [5, 4, 1]],\n",
    "                  columns=['Apple', 'Orange', 'Banana', 'Pear'],\n",
    "                  index=['Basket1', 'Basket2', 'Basket3', 'Basket4',\n",
    "                         'Basket5', 'Basket6'])\n",
    " \n",
    "print(\"\\n------ DataFrame with NaN -----\\n\")\n",
    "print(df)\n",
    " \n",
    "print(\"\\n------ DataFrame with Forward Filling -----\\n\")\n",
    "print(df.ffill())\n",
    " \n",
    "print(\"\\n------ DataFrame with Forward Filling -----\\n\")\n",
    "print(df.bfill())"
   ]
  },
  {
   "cell_type": "markdown",
   "metadata": {},
   "source": [
    "# 八十八.在 Pandas 中使用非分层索引使用 Stacking"
   ]
  },
  {
   "cell_type": "code",
   "execution_count": 93,
   "metadata": {},
   "outputs": [
    {
     "name": "stdout",
     "output_type": "stream",
     "text": [
      "\n",
      "------ DataFrame-----\n",
      "\n",
      "         Apple  Orange  Banana  Pear\n",
      "Basket1   10.0    30.0    40.0   NaN\n",
      "Basket2    NaN     NaN     NaN   NaN\n",
      "Basket3   15.0     8.0    12.0   NaN\n",
      "Basket4   15.0    14.0     1.0   8.0\n",
      "Basket5    7.0     8.0     NaN   NaN\n",
      "Basket6    5.0     4.0     1.0   NaN\n",
      "\n",
      "------ Stacking DataFrame -----\n",
      "\n",
      "Basket1  Apple     10.0\n",
      "         Orange    30.0\n",
      "         Banana    40.0\n",
      "Basket3  Apple     15.0\n",
      "         Orange     8.0\n",
      "         Banana    12.0\n",
      "Basket4  Apple     15.0\n",
      "         Orange    14.0\n",
      "         Banana     1.0\n",
      "         Pear       8.0\n",
      "Basket5  Apple      7.0\n",
      "         Orange     8.0\n",
      "Basket6  Apple      5.0\n",
      "         Orange     4.0\n",
      "         Banana     1.0\n",
      "dtype: float64\n"
     ]
    }
   ],
   "source": [
    "import pandas as pd\n",
    " \n",
    "df = pd.DataFrame([[10, 30, 40], [], [15, 8, 12],\n",
    "                   [15, 14, 1, 8], [7, 8], [5, 4, 1]],\n",
    "                  columns=['Apple', 'Orange', 'Banana', 'Pear'],\n",
    "                  index=['Basket1', 'Basket2', 'Basket3', 'Basket4',\n",
    "                         'Basket5', 'Basket6'])\n",
    " \n",
    "print(\"\\n------ DataFrame-----\\n\")\n",
    "print(df)\n",
    " \n",
    "print(\"\\n------ Stacking DataFrame -----\\n\")\n",
    "print(df.stack(level=-1))"
   ]
  },
  {
   "cell_type": "markdown",
   "metadata": {},
   "source": [
    "# 八十九.使用分层索引对 Pandas 进行拆分"
   ]
  },
  {
   "cell_type": "code",
   "execution_count": 94,
   "metadata": {},
   "outputs": [
    {
     "name": "stdout",
     "output_type": "stream",
     "text": [
      "\n",
      "------ DataFrame-----\n",
      "\n",
      "         Apple  Orange  Banana  Pear\n",
      "Basket1   10.0    30.0    40.0   NaN\n",
      "Basket2    NaN     NaN     NaN   NaN\n",
      "Basket3   15.0     8.0    12.0   NaN\n",
      "Basket4   15.0    14.0     1.0   8.0\n",
      "Basket5    7.0     8.0     NaN   NaN\n",
      "Basket6    5.0     4.0     1.0   NaN\n",
      "\n",
      "------ Unstacking DataFrame -----\n",
      "\n",
      "Apple   Basket1    10.0\n",
      "        Basket2     NaN\n",
      "        Basket3    15.0\n",
      "        Basket4    15.0\n",
      "        Basket5     7.0\n",
      "        Basket6     5.0\n",
      "Orange  Basket1    30.0\n",
      "        Basket2     NaN\n",
      "        Basket3     8.0\n",
      "        Basket4    14.0\n",
      "        Basket5     8.0\n",
      "        Basket6     4.0\n",
      "Banana  Basket1    40.0\n",
      "        Basket2     NaN\n",
      "        Basket3    12.0\n",
      "        Basket4     1.0\n",
      "        Basket5     NaN\n",
      "        Basket6     1.0\n",
      "Pear    Basket1     NaN\n",
      "        Basket2     NaN\n",
      "        Basket3     NaN\n",
      "        Basket4     8.0\n",
      "        Basket5     NaN\n",
      "        Basket6     NaN\n",
      "dtype: float64\n"
     ]
    }
   ],
   "source": [
    "import pandas as pd\n",
    "\n",
    "df = pd.DataFrame([[10, 30, 40], [], [15, 8, 12],\n",
    "                   [15, 14, 1, 8], [7, 8], [5, 4, 1]],\n",
    "                  columns=['Apple', 'Orange', 'Banana', 'Pear'],\n",
    "                  index=['Basket1', 'Basket2', 'Basket3', 'Basket4',\n",
    "                         'Basket5', 'Basket6'])\n",
    "\n",
    "print(\"\\n------ DataFrame-----\\n\")\n",
    "print(df)\n",
    "\n",
    "print(\"\\n------ Unstacking DataFrame -----\\n\")\n",
    "print(df.unstack(level=-1))"
   ]
  },
  {
   "cell_type": "markdown",
   "metadata": {},
   "source": [
    "# 九十.Pandas 获取 HTML 页面上 table 数据"
   ]
  },
  {
   "cell_type": "code",
   "execution_count": 95,
   "metadata": {},
   "outputs": [
    {
     "name": "stdout",
     "output_type": "stream",
     "text": [
      "第1页抓取完成\n",
      "第2页抓取完成\n",
      "第3页抓取完成\n",
      "第4页抓取完成\n",
      "第5页抓取完成\n",
      "第6页抓取完成\n"
     ]
    }
   ],
   "source": [
    "import csv\n",
    "import pandas as pd\n",
    "df2 = pd.DataFrame()\n",
    "for i in range(6):\n",
    "    url2 = \"http://vip.stock.finance.sina.com.cn/q/go.php/vComStockHold/kind/jjzc/index.phtml?p={page}\".format(page=i+1)\n",
    "    df2 = pd.concat([df2,pd.read_html(url2)[0]])\n",
    "    print(\"第{page}页抓取完成\".format(page = i + 1))\n",
    "    \n",
    "# 保存到CSV\n",
    "df2.to_csv(r\".\\新浪财经数据.csv\",encoding = \"gbk\",index=0)"
   ]
  },
  {
   "cell_type": "code",
   "execution_count": 96,
   "metadata": {},
   "outputs": [
    {
     "name": "stdout",
     "output_type": "stream",
     "text": [
      "        代码    简称        截至日期 家数   本期持股数(万股)  持股占已流通A股比例(%)  同上期增减(万股)  \\\n",
      "0   600313  农发种业  2022-03-31  3   5105.8576           4.72   449.2276   \n",
      "1   600557  康缘药业  2022-03-31  1    596.7422           1.04   596.7422   \n",
      "2   600586  金晶科技  2022-03-31  2   1165.9700           0.82   365.9700   \n",
      "3   600731  湖南海利  2022-03-31  4   1205.5140           2.61   403.4550   \n",
      "4      921  海信家电  2022-03-31  3   3256.9512           2.39 -1329.6751   \n",
      "5     2032   苏泊尔  2022-03-31  5   1051.0446           1.30   431.1126   \n",
      "6   605358   立昂微  2022-03-31  1    482.2978           1.05   106.6100   \n",
      "7     2311  海大集团  2022-03-31  3   7081.4735           4.26  -167.4349   \n",
      "8   688663   新风光  2022-03-31  2    293.7058           2.10  -194.6763   \n",
      "9   601636  旗滨集团  2022-03-31  5  10406.0775           3.87  4589.1402   \n",
      "10    2664  长鹰信质  2022-03-31  2   1230.2366           3.05   -51.3134   \n",
      "11  300337  银邦股份  2022-03-31  2   2860.7500           3.48  1830.5600   \n",
      "12  300581  晨曦航空  2022-03-31  3    269.0600           0.87   124.7000   \n",
      "13  300504  天邑股份  2022-03-31  2    143.6800           0.53   143.6800   \n",
      "14  688677  海泰新光  2022-03-31  1    139.1725           1.60   139.1725   \n",
      "15  603659   璞泰来  2022-03-31  3   2231.1579           3.21  -214.2250   \n",
      "16  605090  九丰能源  2022-03-31  3    333.1003           0.75  -187.1462   \n",
      "\n",
      "    持股比例(%) 上期家数     明细  \n",
      "0      4.30    3  +展开明细  \n",
      "1      0.00    0  +展开明细  \n",
      "2      0.56    1  +展开明细  \n",
      "3      1.74    2  +展开明细  \n",
      "4      3.37    4  +展开明细  \n",
      "5      0.77    4  +展开明细  \n",
      "6      0.82    1  +展开明细  \n",
      "7      4.36    3  +展开明细  \n",
      "8      3.49    5  +展开明细  \n",
      "9      2.17    4  +展开明细  \n",
      "10     3.17    2  +展开明细  \n",
      "11     1.25    2  +展开明细  \n",
      "12     0.47    2  +展开明细  \n",
      "13     0.00    0  +展开明细  \n",
      "14     0.00    0  +展开明细  \n",
      "15     3.52    3  +展开明细  \n",
      "16     1.17    4  +展开明细  \n"
     ]
    }
   ],
   "source": [
    "print(df2)"
   ]
  },
  {
   "cell_type": "code",
   "execution_count": null,
   "metadata": {},
   "outputs": [],
   "source": []
  }
 ],
 "metadata": {
  "kernelspec": {
   "display_name": "Python 3",
   "language": "python",
   "name": "python3"
  },
  "language_info": {
   "codemirror_mode": {
    "name": "ipython",
    "version": 3
   },
   "file_extension": ".py",
   "mimetype": "text/x-python",
   "name": "python",
   "nbconvert_exporter": "python",
   "pygments_lexer": "ipython3",
   "version": "3.8.5"
  }
 },
 "nbformat": 4,
 "nbformat_minor": 4
}
