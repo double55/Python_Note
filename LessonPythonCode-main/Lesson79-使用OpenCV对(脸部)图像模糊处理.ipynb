{
 "cells": [
  {
   "cell_type": "markdown",
   "metadata": {},
   "source": [
    "## 第79讲 使用OpenCV对(脸部)图像模糊处理\n",
    "\n",
    "\n",
    "## Python学习：https://www.ixigua.com/home/77346806707?utm_source=xiguastudio\n",
    "\n",
    "## Python源文件及数据下载链接: https://github.com/rayc2020/LessonPythonCode"
   ]
  },
  {
   "cell_type": "code",
   "execution_count": 1,
   "metadata": {},
   "outputs": [
    {
     "data": {
      "text/plain": [
       "'2.3.0'"
      ]
     },
     "execution_count": 1,
     "metadata": {},
     "output_type": "execute_result"
    }
   ],
   "source": [
    "import tensorflow as tf\n",
    "tf.__version__"
   ]
  },
  {
   "cell_type": "code",
   "execution_count": 2,
   "metadata": {},
   "outputs": [
    {
     "data": {
      "text/plain": [
       "'4.3.0'"
      ]
     },
     "execution_count": 2,
     "metadata": {},
     "output_type": "execute_result"
    }
   ],
   "source": [
    "import cv2\n",
    "cv2.__version__"
   ]
  },
  {
   "cell_type": "markdown",
   "metadata": {},
   "source": [
    "## (1) cv2.blur()"
   ]
  },
  {
   "cell_type": "code",
   "execution_count": 45,
   "metadata": {},
   "outputs": [],
   "source": [
    "import cv2\n",
    "\n",
    "img = cv2.imread('Lesson75-OpenCV/image_examples/Lesson75-team.jpg')\n",
    "\n",
    "#blur = cv2.blur(img,(5,5))\n",
    "\n",
    "while True:\n",
    "    cv2.imshow('img',img)\n",
    "    if cv2.waitKey(1) & 0xFF == ord('q'):\n",
    "        break\n",
    "cv2.destroyAllWindows()"
   ]
  },
  {
   "cell_type": "code",
   "execution_count": 49,
   "metadata": {},
   "outputs": [],
   "source": [
    "import cv2\n",
    "\n",
    "img = cv2.imread('Lesson75-OpenCV/image_examples/Lesson75-team.jpg')\n",
    "\n",
    "blur = cv2.blur(img,(35,35))\n",
    "\n",
    "while True:\n",
    "    cv2.imshow('img',blur)\n",
    "    if cv2.waitKey(1) & 0xFF == ord('q'):\n",
    "        break\n",
    "cv2.destroyAllWindows()"
   ]
  },
  {
   "cell_type": "code",
   "execution_count": 5,
   "metadata": {},
   "outputs": [
    {
     "data": {
      "image/jpeg": "[encoded data removed]",
      "text/plain": [
       "<IPython.core.display.Image object>"
      ]
     },
     "execution_count": 5,
     "metadata": {},
     "output_type": "execute_result"
    }
   ],
   "source": [
    "from IPython.display import Image\n",
    "Image(filename='Lesson79-ksize.jpg')"
   ]
  },
  {
   "cell_type": "markdown",
   "metadata": {},
   "source": [
    "## (2) cv2.GaussianBlur"
   ]
  },
  {
   "cell_type": "code",
   "execution_count": 67,
   "metadata": {},
   "outputs": [],
   "source": [
    "import cv2\n",
    "\n",
    "img = cv2.imread('Lesson75-OpenCV/image_examples/Lesson75-team.jpg')\n",
    "\n",
    "blur = cv2.GaussianBlur(img,(27,27),0)\n",
    "\n",
    "while True:\n",
    "    cv2.imshow('img',blur)\n",
    "    if cv2.waitKey(1) & 0xFF == ord('q'):\n",
    "        break\n",
    "cv2.destroyAllWindows()"
   ]
  },
  {
   "cell_type": "code",
   "execution_count": 68,
   "metadata": {},
   "outputs": [],
   "source": [
    "import numpy as np\n",
    "import cv2\n",
    "from cv2 import imshow\n",
    "from cv2 import waitKey\n",
    "from cv2 import destroyAllWindows\n",
    "\n",
    "face_classifier = cv2.CascadeClassifier(cv2.data.haarcascades + 'haarcascade_frontalface_default.xml')\n",
    "eye_classifier = cv2.CascadeClassifier(cv2.data.haarcascades + 'haarcascade_eye.xml')\n",
    "\n",
    "#img = cv2.imread('Lesson75-OpenCV/image_examples/obama.jpg')\n",
    "#img = cv2.imread('Lesson75-OpenCV/image_examples/Trump.jpg')\n",
    "img = cv2.imread('Lesson75-OpenCV/image_examples/Lesson75-team.jpg')\n",
    "#img = cv2.imread('D:/python/Project0-Python-MachineLearning/Lesson74-Monkey.jpg')\n",
    "#gray = cv2.cvtColor(img, cv2.COLOR_BGR2GRAY)\n",
    "\n",
    "faces = face_classifier.detectMultiScale(gray, 1.3, 5)\n",
    "\n",
    "# When no faces detected, face_classifier returns and empty tuple\n",
    "if faces is ():\n",
    "    print(\"No Face Found\")\n",
    "\n",
    "for (x,y,w,h) in faces:\n",
    "    cv2.rectangle(img,(x,y),(x+w,y+h),(127,0,255),2)\n",
    "\n",
    "    #roi_gray = gray[y:y+h, x:x+w]\n",
    "    roi_color = img[y:y+h, x:x+w]\n",
    "    detectedFace = cv2.GaussianBlur(roi_color, ksize, 0)\n",
    "    img[y:y+h, x:x+w] = detectedFace\n",
    "    #eyes = eye_classifier.detectMultiScale(roi_gray)\n",
    "    #for (ex,ey,ew,eh) in eyes:\n",
    "    #    cv2.rectangle(roi_color,(ex,ey),(ex+ew,ey+eh),(255,255,0),2)\n",
    "imshow('img',img)\n",
    "waitKey(0)\n",
    "destroyAllWindows()"
   ]
  },
  {
   "cell_type": "code",
   "execution_count": 69,
   "metadata": {},
   "outputs": [],
   "source": [
    "import cv2\n",
    "from mtcnn import MTCNN\n",
    "\n",
    "ksize = (125, 125)\n",
    "font = cv2.FONT_HERSHEY_SIMPLEX\n",
    "\n",
    "\n",
    "def find_face_MTCNN(color, result_list):\n",
    "    for result in result_list:\n",
    "        x, y, w, h = result['box']\n",
    "        roi = color[y:y+h, x:x+w]\n",
    "        cv2.rectangle(color,\n",
    "                      (x, y), (x+w, y+h),\n",
    "                      (0, 155, 255),\n",
    "                      5)\n",
    "        detectedFace = cv2.GaussianBlur(roi, ksize, 0)\n",
    "        color[y:y+h, x:x+w] = detectedFace\n",
    "    return color\n",
    "\n",
    "\n",
    "video_capture = cv2.VideoCapture(0, cv2.CAP_DSHOW)\n",
    "detector = MTCNN()\n",
    "\n",
    "while True:\n",
    "    _, color = video_capture.read()\n",
    "    faces = detector.detect_faces(color)\n",
    "    detectFaceMTCNN = find_face_MTCNN(color, faces)\n",
    "    cv2.imshow('Video', detectFaceMTCNN)\n",
    "    if cv2.waitKey(1) & 0xFF == ord('q'):\n",
    "        break\n",
    "\n",
    "video_capture.release()\n",
    "cv2.destroyAllWindows()"
   ]
  },
  {
   "cell_type": "markdown",
   "metadata": {},
   "source": [
    "## (3) cv2.medianBlur"
   ]
  },
  {
   "cell_type": "code",
   "execution_count": 62,
   "metadata": {},
   "outputs": [],
   "source": [
    "import cv2\n",
    "\n",
    "img = cv2.imread('Lesson75-OpenCV/image_examples/Lesson75-team.jpg')\n",
    "\n",
    "blur = cv2.medianBlur(img,5)\n",
    "\n",
    "while True:\n",
    "    cv2.imshow('img',blur)\n",
    "    if cv2.waitKey(1) & 0xFF == ord('q'):\n",
    "        break\n",
    "cv2.destroyAllWindows()"
   ]
  },
  {
   "cell_type": "markdown",
   "metadata": {},
   "source": [
    "## (4) cv2.bilateralFilter"
   ]
  },
  {
   "cell_type": "code",
   "execution_count": 64,
   "metadata": {},
   "outputs": [],
   "source": [
    "import cv2\n",
    "\n",
    "img = cv2.imread('Lesson75-OpenCV/image_examples/Lesson75-team.jpg')\n",
    "\n",
    "blur = cv2.bilateralFilter(img,9,175,175)\n",
    "\n",
    "while True:\n",
    "    cv2.imshow('img',blur)\n",
    "    if cv2.waitKey(1) & 0xFF == ord('q'):\n",
    "        break\n",
    "cv2.destroyAllWindows()"
   ]
  },
  {
   "cell_type": "code",
   "execution_count": null,
   "metadata": {},
   "outputs": [],
   "source": []
  },
  {
   "cell_type": "code",
   "execution_count": null,
   "metadata": {},
   "outputs": [],
   "source": []
  }
 ],
 "metadata": {
  "kernelspec": {
   "display_name": "Python 3",
   "language": "python",
   "name": "python3"
  },
  "language_info": {
   "codemirror_mode": {
    "name": "ipython",
    "version": 3
   },
   "file_extension": ".py",
   "mimetype": "text/x-python",
   "name": "python",
   "nbconvert_exporter": "python",
   "pygments_lexer": "ipython3",
   "version": "3.7.6"
  }
 },
 "nbformat": 4,
 "nbformat_minor": 1
}
