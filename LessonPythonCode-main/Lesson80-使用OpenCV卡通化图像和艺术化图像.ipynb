{
 "cells": [
  {
   "cell_type": "markdown",
   "metadata": {},
   "source": [
    "## 第80讲 使用OpenCV卡通化图像和艺术化图像\n",
    "\n",
    "\n",
    "## Python学习：https://www.ixigua.com/home/77346806707?utm_source=xiguastudio\n",
    "\n",
    "## Python源文件及数据下载链接: https://github.com/rayc2020/LessonPythonCode"
   ]
  },
  {
   "cell_type": "code",
   "execution_count": 52,
   "metadata": {},
   "outputs": [
    {
     "data": {
      "text/plain": [
       "'2.3.0'"
      ]
     },
     "execution_count": 52,
     "metadata": {},
     "output_type": "execute_result"
    }
   ],
   "source": [
    "import tensorflow as tf\n",
    "tf.__version__"
   ]
  },
  {
   "cell_type": "code",
   "execution_count": 53,
   "metadata": {},
   "outputs": [
    {
     "data": {
      "text/plain": [
       "'4.3.0'"
      ]
     },
     "execution_count": 53,
     "metadata": {},
     "output_type": "execute_result"
    }
   ],
   "source": [
    "import cv2\n",
    "cv2.__version__"
   ]
  },
  {
   "cell_type": "code",
   "execution_count": 54,
   "metadata": {},
   "outputs": [],
   "source": [
    "import cv2  \n",
    "color_image = cv2.imread(\"Lesson80-bridge.jpg\")  \n",
    "cv2.imshow(\"bridge\",color_image)  \n",
    "cv2.waitKey()  \n",
    "cv2.destroyAllWindows()  "
   ]
  },
  {
   "cell_type": "markdown",
   "metadata": {},
   "source": [
    "aims to produce digital imagery with a wide variety of effects not focused on photorealism.\n",
    "sigma_s controls the size of the neighborhood, and sigma_r (for sigma_range) controls the how dissimilar colors within the neighborhood will be averaged. A larger sigma_r results in large regions of constant color"
   ]
  },
  {
   "cell_type": "code",
   "execution_count": 57,
   "metadata": {},
   "outputs": [],
   "source": [
    "cartoon_image = cv2.stylization(color_image, sigma_s=100, sigma_r=0.3)  \n",
    "cv2.imshow('bridge', cartoon_image)  \n",
    "cv2.waitKey()  \n",
    "cv2.destroyAllWindows()  "
   ]
  },
  {
   "cell_type": "code",
   "execution_count": null,
   "metadata": {},
   "outputs": [],
   "source": []
  },
  {
   "cell_type": "code",
   "execution_count": 58,
   "metadata": {},
   "outputs": [],
   "source": [
    "cartoon_image1, cartoon_image2 = cv2.pencilSketch(color_image, sigma_s=60, sigma_r=0.5, shade_factor=0.02)"
   ]
  },
  {
   "cell_type": "code",
   "execution_count": 59,
   "metadata": {},
   "outputs": [],
   "source": [
    "cv2.imshow('pencil' ,cartoon_image1)  \n",
    "cv2.waitKey()  \n",
    "cv2.destroyAllWindows()   "
   ]
  },
  {
   "cell_type": "code",
   "execution_count": null,
   "metadata": {},
   "outputs": [],
   "source": []
  },
  {
   "cell_type": "code",
   "execution_count": 60,
   "metadata": {},
   "outputs": [],
   "source": [
    "cv2.imshow('pencil', cartoon_image2)    \n",
    "cv2.waitKey()    \n",
    "cv2.destroyAllWindows()  "
   ]
  },
  {
   "cell_type": "code",
   "execution_count": 61,
   "metadata": {},
   "outputs": [],
   "source": [
    "import cv2\n",
    "from mtcnn import MTCNN\n",
    "\n",
    "ksize = (125, 125)\n",
    "font = cv2.FONT_HERSHEY_SIMPLEX\n",
    "\n",
    "\n",
    "def find_face_MTCNN(color, result_list):\n",
    "    for result in result_list:\n",
    "        x, y, w, h = result['box']\n",
    "        roi = color[y:y+h, x:x+w]\n",
    "        cv2.rectangle(color,\n",
    "                      (x, y), (x+w, y+h),\n",
    "                      (0, 155, 255),\n",
    "                      5)\n",
    "        detectedFace = cv2.GaussianBlur(roi, ksize, 1)\n",
    "        color[y:y+h, x:x+w] = detectedFace\n",
    "    return color\n",
    "\n",
    "\n",
    "video_capture = cv2.VideoCapture(0, cv2.CAP_DSHOW)\n",
    "detector = MTCNN()\n",
    "\n",
    "while True:\n",
    "    _, color = video_capture.read()\n",
    "    faces = detector.detect_faces(color)\n",
    "    detectFaceMTCNN = find_face_MTCNN(color, faces)\n",
    "    cartoon_image = cv2.stylization(detectFaceMTCNN, sigma_s=10, sigma_r=0.1) \n",
    "    cv2.imshow('Video', cartoon_image)\n",
    "    if cv2.waitKey(1) & 0xFF == ord('q'):\n",
    "        break\n",
    "\n",
    "video_capture.release()\n",
    "cv2.destroyAllWindows()"
   ]
  },
  {
   "cell_type": "code",
   "execution_count": 62,
   "metadata": {},
   "outputs": [],
   "source": [
    "import cv2  \n",
    "color_image = cv2.imread(\"Lesson80-1.jpg\")  \n",
    "cv2.imshow(\"mountain\",color_image)  \n",
    "cv2.waitKey()  \n",
    "cv2.destroyAllWindows()  "
   ]
  },
  {
   "cell_type": "code",
   "execution_count": 18,
   "metadata": {},
   "outputs": [],
   "source": [
    "cartoon_image = cv2.stylization(color_image, sigma_s=250, sigma_r=0.3)  \n",
    "cv2.imshow('mountain', cartoon_image)  \n",
    "cv2.waitKey()  \n",
    "cv2.destroyAllWindows()  "
   ]
  },
  {
   "cell_type": "code",
   "execution_count": 69,
   "metadata": {},
   "outputs": [],
   "source": [
    "cartoon_image1, cartoon_image2 = cv2.pencilSketch(color_image, sigma_s=150, sigma_r=0.6, shade_factor=0.05)"
   ]
  },
  {
   "cell_type": "code",
   "execution_count": 70,
   "metadata": {},
   "outputs": [],
   "source": [
    "cv2.imshow('pencil' ,cartoon_image1)  \n",
    "cv2.waitKey()  \n",
    "cv2.destroyAllWindows()   "
   ]
  },
  {
   "cell_type": "code",
   "execution_count": 71,
   "metadata": {},
   "outputs": [],
   "source": [
    "cv2.imshow('pencil', cartoon_image2)    \n",
    "cv2.waitKey()    \n",
    "cv2.destroyAllWindows()  "
   ]
  },
  {
   "cell_type": "code",
   "execution_count": null,
   "metadata": {},
   "outputs": [],
   "source": []
  }
 ],
 "metadata": {
  "kernelspec": {
   "display_name": "Python 3",
   "language": "python",
   "name": "python3"
  },
  "language_info": {
   "codemirror_mode": {
    "name": "ipython",
    "version": 3
   },
   "file_extension": ".py",
   "mimetype": "text/x-python",
   "name": "python",
   "nbconvert_exporter": "python",
   "pygments_lexer": "ipython3",
   "version": "3.7.6"
  }
 },
 "nbformat": 4,
 "nbformat_minor": 1
}
